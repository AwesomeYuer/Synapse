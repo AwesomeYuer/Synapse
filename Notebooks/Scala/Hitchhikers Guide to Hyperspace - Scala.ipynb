{
  "cells": [
    {
      "cell_type": "markdown",
      "source": [
        "# Hitchhiker's Guide to Hyperspace (Scala)\n",
        "## An Indexing Subsystem for Apache Spark™\n",
        "\n",
        "<img src=\"https://raw.githubusercontent.com/rapoth/hyperspace/master/docs/assets/images/hyperspace-small-banner.png\" alt=\"Hyperspace Indexing Sub-System Logo\" width=\"1000\"/>\n",
        "\n",
        "[Hyperspace](https://github.com/microsoft/hyperspace) introduces the ability for Apache Spark™ users to create indexes on their datasets (e.g., CSV, JSON, Parquet etc.) and leverage them for potential query and workload acceleration.\n",
        "\n",
        "In this notebook, we highlight the basics of Hyperspace, emphasizing on its simplicity and show how it can be used by just anyone.\n",
        "\n",
        "**Disclaimer**: Hyperspace helps accelerate your workloads/queries under two circumstances:\n",
        "\n",
        "  1. Queries contain filters on predicates with high selectivity (e.g., you want to select 100 matching rows from a million candidate rows)\n",
        "  2. Queries contain a join that requires heavy-shuffles (e.g., you want to join a 100 GB dataset with a 10 GB dataset)\n",
        "\n",
        "You may want to carefully monitor your workloads and determine whether indexing is helping you on a case-by-case basis."
      ],
      "metadata": {}
    },
    {
      "cell_type": "markdown",
      "source": [
        "## Setup\n",
        "To begin with, let's start a new Spark™ session. Since this notebook is a tutorial merely to illustrate what Hyperspace can offer, we will make a configuration change that allow us to highlight what Hyperspace is doing on small datasets. By default, Spark™ uses *broadcast join* to optimize join queries when the data size for one side of join is small (which is the case for the sample data we use in this tutorial). Therefore, we disable broadcast joins so that later when we run join queries, Spark™ uses *sort-merge* join. This is mainly to show how Hyperspace indexes would be used at scale for accelerating join queries.\n",
        "\n",
        "The output of running the cell below shows a reference to the successfully created Spark™ session and prints out '-1' as the value for the modified join config which indicates that broadcast join is successfully disabled."
      ],
      "metadata": {}
    },
    {
      "cell_type": "code",
      "source": [
        "val sessionId = scala.util.Random.nextInt(1000000)\n",
        "val dataPath = s\"/hyperspace/data-$sessionId\";\n",
        "val indexLocation = s\"/hyperspace/indexes-$sessionId\"\n",
        "\n",
        "// Please note that you DO NOT need to change this configuration in production.\n",
        "// We store all indexes in the system folder within Synapse.\n",
        "spark.conf.set(\"spark.hyperspace.system.path\", indexLocation)"
      ],
      "outputs": [
        {
          "output_type": "display_data",
          "data": {
            "application/vnd.livy.statement-meta+json": {
              "spark_pool": "small",
              "session_id": 17,
              "statement_id": 4,
              "state": "finished",
              "livy_statement_state": "available",
              "queued_time": "2021-02-23T06:16:13.3961895Z",
              "execution_start_time": "2021-02-23T06:16:13.4912176Z",
              "execution_finish_time": "2021-02-23T06:16:15.5181138Z"
            },
            "text/plain": "StatementMeta(small, 17, 4, Finished, Available)"
          },
          "metadata": {}
        },
        {
          "output_type": "execute_result",
          "execution_count": 2,
          "data": {
            "text/plain": "sessionId: Int = 269515\ndataPath: String = /hyperspace/data-269515\nindexLocation: String = /hyperspace/indexes-269515\n"
          },
          "metadata": {}
        }
      ],
      "execution_count": 2,
      "metadata": {}
    },
    {
      "cell_type": "code",
      "source": [
        "// Start your Spark™ session\n",
        "spark\n",
        "\n",
        "// Disable BroadcastHashJoin, so Spark™ will use standard SortMergeJoin. Currently hyperspace indexes utilize SortMergeJoin to speed up query.\n",
        "spark.conf.set(\"spark.sql.autoBroadcastJoinThreshold\", -1)\n",
        "\n",
        "// Verify that BroadcastHashJoin is set correctly \n",
        "println(spark.conf.get(\"spark.sql.autoBroadcastJoinThreshold\"))\n",
        "spark.conf.set(\"spark.hyperspace.explain.displayMode\", \"html\")"
      ],
      "outputs": [
        {
          "output_type": "display_data",
          "data": {
            "application/vnd.livy.statement-meta+json": {
              "spark_pool": "small",
              "session_id": 17,
              "statement_id": 5,
              "state": "finished",
              "livy_statement_state": "available",
              "queued_time": "2021-02-23T06:16:13.457365Z",
              "execution_start_time": "2021-02-23T06:16:15.6160277Z",
              "execution_finish_time": "2021-02-23T06:16:17.6442046Z"
            },
            "text/plain": "StatementMeta(small, 17, 5, Finished, Available)"
          },
          "metadata": {}
        },
        {
          "output_type": "execute_result",
          "execution_count": 3,
          "data": {
            "text/plain": "res13: org.apache.spark.sql.SparkSession = org.apache.spark.sql.SparkSession@34ab7b5f\n-1\n"
          },
          "metadata": {}
        }
      ],
      "execution_count": 3,
      "metadata": {}
    },
    {
      "cell_type": "markdown",
      "source": [
        "## Data Preparation\n",
        "\n",
        "To prepare our environment, we will create sample data records and save them as parquet data files. While we use Parquet for illustration, you can use other formats such as CSV. In the subsequent cells, we will also demonstrate how you can create several Hyperspace indexes on this sample dataset and how one can make Spark™ use them when running queries. \n",
        "\n",
        "Our example records correspond to two datasets: *department* and *employee*. You should configure \"empLocation\" and \"deptLocation\" paths so that on the storage account they point to your desired location to save generated data files. \n",
        "\n",
        "The output of running below cell shows contents of our datasets as lists of triplets followed by references to dataFrames created to save the content of each dataset in our preferred location."
      ],
      "metadata": {}
    },
    {
      "cell_type": "code",
      "source": [
        "import org.apache.spark.sql.DataFrame\n",
        "\n",
        "// Sample department records\n",
        "val departments = Seq(\n",
        "      (10, \"Accounting\", \"New York\"),\n",
        "      (20, \"Research\", \"Dallas\"),\n",
        "      (30, \"Sales\", \"Chicago\"),\n",
        "      (40, \"Operations\", \"Boston\"))\n",
        "\n",
        "// Sample employee records\n",
        "val employees = Seq(\n",
        "      (7369, \"SMITH\", 20),\n",
        "      (7499, \"ALLEN\", 30),\n",
        "      (7521, \"WARD\", 30),\n",
        "      (7566, \"JONES\", 20),\n",
        "      (7698, \"BLAKE\", 30),\n",
        "      (7782, \"CLARK\", 10),\n",
        "      (7788, \"SCOTT\", 20),\n",
        "      (7839, \"KING\", 10),\n",
        "      (7844, \"TURNER\", 30),\n",
        "      (7876, \"ADAMS\", 20),\n",
        "      (7900, \"JAMES\", 30),\n",
        "      (7934, \"MILLER\", 10),\n",
        "      (7902, \"FORD\", 20),\n",
        "      (7654, \"MARTIN\", 30))\n",
        "\n",
        "// Save sample data in the Parquet format\n",
        "import spark.implicits._\n",
        "val empData: DataFrame = employees.toDF(\"empId\", \"empName\", \"deptId\")\n",
        "val deptData: DataFrame = departments.toDF(\"deptId\", \"deptName\", \"location\")\n",
        "\n",
        "val empLocation: String = s\"$dataPath/employees.parquet\"\n",
        "val deptLocation: String = s\"$dataPath/departments.parquet\"\n",
        "empData.write.mode(\"overwrite\").parquet(empLocation)\n",
        "deptData.write.mode(\"overwrite\").parquet(deptLocation)"
      ],
      "outputs": [
        {
          "output_type": "display_data",
          "data": {
            "application/vnd.livy.statement-meta+json": {
              "spark_pool": "small",
              "session_id": 17,
              "statement_id": 6,
              "state": "finished",
              "livy_statement_state": "available",
              "queued_time": "2021-02-23T06:16:13.5118879Z",
              "execution_start_time": "2021-02-23T06:16:17.7137334Z",
              "execution_finish_time": "2021-02-23T06:16:38.1055966Z"
            },
            "text/plain": "StatementMeta(small, 17, 6, Finished, Available)"
          },
          "metadata": {}
        },
        {
          "output_type": "execute_result",
          "execution_count": 4,
          "data": {
            "text/plain": "import org.apache.spark.sql.DataFrame\ndepartments: Seq[(Int, String, String)] = List((10,Accounting,New York), (20,Research,Dallas), (30,Sales,Chicago), (40,Operations,Boston))\nemployees: Seq[(Int, String, Int)] = List((7369,SMITH,20), (7499,ALLEN,30), (7521,WARD,30), (7566,JONES,20), (7698,BLAKE,30), (7782,CLARK,10), (7788,SCOTT,20), (7839,KING,10), (7844,TURNER,30), (7876,ADAMS,20), (7900,JAMES,30), (7934,MILLER,10), (7902,FORD,20), (7654,MARTIN,30))\nimport spark.implicits._\nempData: org.apache.spark.sql.DataFrame = [empId: int, empName: string ... 1 more field]\ndeptData: org.apache.spark.sql.DataFrame = [deptId: int, deptName: string ... 1 more field]\nempLocation: String = /hyperspace/data-269515/employees.parquet\ndeptLocation: String = /hyperspace/data-269515/departments.parquet\n"
          },
          "metadata": {}
        }
      ],
      "execution_count": 4,
      "metadata": {}
    },
    {
      "cell_type": "markdown",
      "source": [
        "Let's verify the contents of parquet files we created above to make sure they contain expected records in correct format. We later use these data files to create Hyperspace indexes and run sample queries.\n",
        "\n",
        "Running below cell, the output displays the rows in employee and department dataframes in a tabular form. There should be 14 employees and 4 departments, each matching with one of triplets we created in the previous cell."
      ],
      "metadata": {}
    },
    {
      "cell_type": "code",
      "source": [
        "// empLocation and deptLocation are the user defined locations above to save parquet files\n",
        "val empDF: DataFrame = spark.read.parquet(empLocation)\n",
        "val deptDF: DataFrame = spark.read.parquet(deptLocation)\n",
        "\n",
        "// Verify the data is available and correct\n",
        "empDF.show()\n",
        "deptDF.show()"
      ],
      "outputs": [
        {
          "output_type": "display_data",
          "data": {
            "application/vnd.livy.statement-meta+json": {
              "spark_pool": "small",
              "session_id": 17,
              "statement_id": 7,
              "state": "finished",
              "livy_statement_state": "available",
              "queued_time": "2021-02-23T06:16:13.5682151Z",
              "execution_start_time": "2021-02-23T06:16:38.1719929Z",
              "execution_finish_time": "2021-02-23T06:16:44.2747016Z"
            },
            "text/plain": "StatementMeta(small, 17, 7, Finished, Available)"
          },
          "metadata": {}
        },
        {
          "output_type": "execute_result",
          "execution_count": 5,
          "data": {
            "text/plain": "empDF: org.apache.spark.sql.DataFrame = [empId: int, empName: string ... 1 more field]\ndeptDF: org.apache.spark.sql.DataFrame = [deptId: int, deptName: string ... 1 more field]\n+-----+-------+------+\n|empId|empName|deptId|\n+-----+-------+------+\n| 7499|  ALLEN|    30|\n| 7521|   WARD|    30|\n| 7369|  SMITH|    20|\n| 7844| TURNER|    30|\n| 7876|  ADAMS|    20|\n| 7900|  JAMES|    30|\n| 7934| MILLER|    10|\n| 7839|   KING|    10|\n| 7566|  JONES|    20|\n| 7698|  BLAKE|    30|\n| 7782|  CLARK|    10|\n| 7788|  SCOTT|    20|\n| 7902|   FORD|    20|\n| 7654| MARTIN|    30|\n+-----+-------+------+\n\n+------+----------+--------+\n|deptId|  deptName|location|\n+------+----------+--------+\n|    10|Accounting|New York|\n|    40|Operations|  Boston|\n|    20|  Research|  Dallas|\n|    30|     Sales| Chicago|\n+------+----------+--------+\n\n"
          },
          "metadata": {}
        }
      ],
      "execution_count": 5,
      "metadata": {}
    },
    {
      "cell_type": "markdown",
      "source": [
        "## Hello Hyperspace Index!\n",
        "Hyperspace lets users create indexes on records scanned from persisted data files. Once successfully created, an entry corresponding to the index is added to the Hyperspace's metadata. This metadata is later used by Apache Spark™'s Hyperspace-enabled optimizer during query processing to find and use proper indexes. \n",
        "\n",
        "Once indexes are created, users can perform several actions:\n",
        "  - **Refresh** If the underlying data changes, users can refresh an existing index to capture that. \n",
        "  - **Delete** If the index is not needed, users can perform a soft-delete i.e., index is not physically deleted but is marked as 'deleted' so it is no longer used in your workloads.\n",
        "  - **Vacuum** If an index is no longer required, users can vacuum it which forces a physical deletion of the index contents and associated metadata completely from Hyperspace's metadata.\n",
        "\n",
        "Below sections show how such index management operations can be done in Hyperspace.\n",
        "\n",
        "First, we need to import the required libraries and create an instance of Hyperspace. We later use this instance to invoke different Hyperspace APIs to create indexes on our sample data and modify those indexes.\n",
        "\n",
        "Output of running below cell shows a reference to the created instance of Hyperspace."
      ],
      "metadata": {}
    },
    {
      "cell_type": "code",
      "source": [
        "// Create an instance of Hyperspace\n",
        "import com.microsoft.hyperspace._\n",
        "\n",
        "val hyperspace: Hyperspace = Hyperspace()"
      ],
      "outputs": [
        {
          "output_type": "display_data",
          "data": {
            "application/vnd.livy.statement-meta+json": {
              "spark_pool": "small",
              "session_id": 17,
              "statement_id": 8,
              "state": "finished",
              "livy_statement_state": "available",
              "queued_time": "2021-02-23T06:16:13.6195862Z",
              "execution_start_time": "2021-02-23T06:16:44.3527068Z",
              "execution_finish_time": "2021-02-23T06:16:46.3984746Z"
            },
            "text/plain": "StatementMeta(small, 17, 8, Finished, Available)"
          },
          "metadata": {}
        },
        {
          "output_type": "execute_result",
          "execution_count": 6,
          "data": {
            "text/plain": "import com.microsoft.hyperspace._\nhyperspace: com.microsoft.hyperspace.Hyperspace = com.microsoft.hyperspace.Hyperspace@1b7f99d3\n"
          },
          "metadata": {}
        }
      ],
      "execution_count": 6,
      "metadata": {}
    },
    {
      "cell_type": "markdown",
      "source": [
        "### Create Indexes\n",
        "\n",
        "To create a Hyperspace index, the user needs to provide 2 pieces of information:\n",
        "* An Apache Spark™ DataFrame which references the data to be indexed.\n",
        "* An index configuration object: IndexConfig, which specifies the *index name*, *indexed* and *included* columns of the index. \n",
        "\n",
        "As you might have noticed, in this notebook, we illustrate indexing using the [Covering Index](https://www.red-gate.com/simple-talk/sql/learn-sql-server/using-covering-indexes-to-improve-query-performance/), which are the default index in Hyperspace. In the future, we plan on adding support for other index types. \n",
        "\n",
        "We start by creating three Hyperspace indexes on our sample data: two indexes on the department dataset named \"deptIndex1\" and \"deptIndex2\", and one index on the employee dataset named 'empIndex'. \n",
        "For each index, we need a corresponding IndexConfig to capture the name along with columns lists for the indexed and included columns. Running below cell creates these indexConfigs and its output lists them.\n",
        "\n",
        "**Note**: An *index column* is a column that appears in your filters or join conditions. An *included column* is a column that appears in your select/project.\n",
        "\n",
        "For instance, in the following query:\n",
        "```sql\n",
        "SELECT X\n",
        "FROM Table\n",
        "WHERE Y = 2\n",
        "```\n",
        "X can be an *index column* and Y can be an *included column*."
      ],
      "metadata": {}
    },
    {
      "cell_type": "code",
      "source": [
        "// Create index configurations\n",
        "import com.microsoft.hyperspace.index.IndexConfig\n",
        "\n",
        "val empIndexConfig: IndexConfig = IndexConfig(\"empIndex\", Seq(\"deptId\"), Seq(\"empName\"))\n",
        "val deptIndexConfig1: IndexConfig = IndexConfig(\"deptIndex1\", Seq(\"deptId\"), Seq(\"deptName\"))\n",
        "val deptIndexConfig2: IndexConfig = IndexConfig(\"deptIndex2\", Seq(\"location\"), Seq(\"deptName\"))"
      ],
      "outputs": [
        {
          "output_type": "display_data",
          "data": {
            "application/vnd.livy.statement-meta+json": {
              "spark_pool": "small",
              "session_id": 17,
              "statement_id": 9,
              "state": "finished",
              "livy_statement_state": "available",
              "queued_time": "2021-02-23T06:16:13.6774207Z",
              "execution_start_time": "2021-02-23T06:16:46.4686007Z",
              "execution_finish_time": "2021-02-23T06:16:48.5144724Z"
            },
            "text/plain": "StatementMeta(small, 17, 9, Finished, Available)"
          },
          "metadata": {}
        },
        {
          "output_type": "execute_result",
          "execution_count": 7,
          "data": {
            "text/plain": "import com.microsoft.hyperspace.index.IndexConfig\nempIndexConfig: com.microsoft.hyperspace.index.IndexConfig = [indexName: empIndex; indexedColumns: deptid; includedColumns: empname]\ndeptIndexConfig1: com.microsoft.hyperspace.index.IndexConfig = [indexName: deptIndex1; indexedColumns: deptid; includedColumns: deptname]\ndeptIndexConfig2: com.microsoft.hyperspace.index.IndexConfig = [indexName: deptIndex2; indexedColumns: location; includedColumns: deptname]\n"
          },
          "metadata": {}
        }
      ],
      "execution_count": 7,
      "metadata": {}
    },
    {
      "cell_type": "markdown",
      "source": [
        "Now, we create three indexes using our index configurations. For this purpose, we invoke \"createIndex\" command on our Hyperspace instance. This command requires an index configuration and the dataFrame containing rows to be indexed.\n",
        "Running below cell creates three indexes.\n"
      ],
      "metadata": {}
    },
    {
      "cell_type": "code",
      "source": [
        "// Create indexes from configurations\n",
        "import com.microsoft.hyperspace.index._\n",
        "\n",
        "hyperspace.createIndex(empDF, empIndexConfig)\n",
        "hyperspace.createIndex(deptDF, deptIndexConfig1)\n",
        "hyperspace.createIndex(deptDF, deptIndexConfig2)"
      ],
      "outputs": [
        {
          "output_type": "display_data",
          "data": {
            "application/vnd.livy.statement-meta+json": {
              "spark_pool": "small",
              "session_id": 17,
              "statement_id": 10,
              "state": "finished",
              "livy_statement_state": "available",
              "queued_time": "2021-02-23T06:16:13.7596834Z",
              "execution_start_time": "2021-02-23T06:16:48.5886971Z",
              "execution_finish_time": "2021-02-23T06:17:04.9299221Z"
            },
            "text/plain": "StatementMeta(small, 17, 10, Finished, Available)"
          },
          "metadata": {}
        },
        {
          "output_type": "execute_result",
          "execution_count": 8,
          "data": {
            "text/plain": "import com.microsoft.hyperspace.index._\n"
          },
          "metadata": {}
        }
      ],
      "execution_count": 8,
      "metadata": {}
    },
    {
      "cell_type": "markdown",
      "source": [
        "### List Indexes\n",
        "\n",
        "Below code shows how a user can list all available indexes in a Hyperspace instance. It uses the `indexes` API which returns information about existing indexes as a Spark™'s DataFrame so you can perform additional operations. For instance, you can invoke valid operations on this DataFrame for checking its content or analyzing it further (for example filtering specific indexes or grouping them according to some desired property). \n",
        "\n",
        "Below cell uses DataFrame's `show` action to fully print the rows and show details of our indexes in a tabular form. For each index, we can see all the information Hyperspace has stored about it in its metadata. \n",
        "\n",
        "You will immediately notice the following:\n",
        "  - `config.indexName`, `config.indexedColumns`, `config.includedColumns` are the fields that a user normally provides during index creation.\n",
        "  - `status.status` indicates if the index is being actively used by the Spark's optimizer.\n",
        "  - `dfSignature` is automatically generated by Hyperspace and is unique for each index. Hyperspace uses this signature internally to maintain the index and exploit it at query time. \n",
        "  \n",
        "In the output below, all three indexes should have \"ACTIVE\" as status and their name, indexed columns, and included columns should match with what we defined in index configurations above."
      ],
      "metadata": {}
    },
    {
      "cell_type": "code",
      "source": [
        "hyperspace.indexes.show"
      ],
      "outputs": [
        {
          "output_type": "display_data",
          "data": {
            "application/vnd.livy.statement-meta+json": {
              "spark_pool": "small",
              "session_id": 17,
              "statement_id": 11,
              "state": "finished",
              "livy_statement_state": "available",
              "queued_time": "2021-02-23T06:16:13.8598689Z",
              "execution_start_time": "2021-02-23T06:17:04.9978316Z",
              "execution_finish_time": "2021-02-23T06:17:07.0432039Z"
            },
            "text/plain": "StatementMeta(small, 17, 11, Finished, Available)"
          },
          "metadata": {}
        },
        {
          "output_type": "execute_result",
          "execution_count": 9,
          "data": {
            "text/plain": "+----------+--------------+---------------+----------+--------------------+--------------------+------+\n|      name|indexedColumns|includedColumns|numBuckets|              schema|       indexLocation| state|\n+----------+--------------+---------------+----------+--------------------+--------------------+------+\n|deptIndex1|      [deptId]|     [deptName]|       200|{\"type\":\"struct\",...|abfss://zhaotest@...|ACTIVE|\n|deptIndex2|    [location]|     [deptName]|       200|{\"type\":\"struct\",...|abfss://zhaotest@...|ACTIVE|\n|  empIndex|      [deptId]|      [empName]|       200|{\"type\":\"struct\",...|abfss://zhaotest@...|ACTIVE|\n+----------+--------------+---------------+----------+--------------------+--------------------+------+\n\n"
          },
          "metadata": {}
        }
      ],
      "execution_count": 9,
      "metadata": {}
    },
    {
      "cell_type": "markdown",
      "source": [
        "### Delete Indexes\n",
        "A user can drop an existing index by using the `deleteIndex` API and providing the index name. \n",
        "\n",
        "Index deletion is a **soft-delete** operation i.e., only the index's status in the Hyperspace metadata from is changed from \"ACTIVE\" to \"DELETED\". This will exclude the deleted index from any future query optimization and Hyperspace no longer picks that index for any query. However, index files for a deleted index still remain available (since it is a soft-delete), so if you accidentally deleted the index, you could still restore it.\n",
        "\n",
        "The cell below deletes index with name \"deptIndex2\" and lists Hyperspace metadata after that. The output should be similar to above cell for \"List Indexes\" except for \"deptIndex2\" which now should have its status changed into \"DELETED\"."
      ],
      "metadata": {}
    },
    {
      "cell_type": "code",
      "source": [
        "hyperspace.deleteIndex(\"deptIndex2\")\n",
        "\n",
        "hyperspace.indexes.show"
      ],
      "outputs": [
        {
          "output_type": "display_data",
          "data": {
            "application/vnd.livy.statement-meta+json": {
              "spark_pool": "small",
              "session_id": 17,
              "statement_id": 12,
              "state": "finished",
              "livy_statement_state": "available",
              "queued_time": "2021-02-23T06:16:13.9224349Z",
              "execution_start_time": "2021-02-23T06:17:07.1130101Z",
              "execution_finish_time": "2021-02-23T06:17:09.1548844Z"
            },
            "text/plain": "StatementMeta(small, 17, 12, Finished, Available)"
          },
          "metadata": {}
        },
        {
          "output_type": "execute_result",
          "execution_count": 10,
          "data": {
            "text/plain": "+----------+--------------+---------------+----------+--------------------+--------------------+-------+\n|      name|indexedColumns|includedColumns|numBuckets|              schema|       indexLocation|  state|\n+----------+--------------+---------------+----------+--------------------+--------------------+-------+\n|deptIndex1|      [deptId]|     [deptName]|       200|{\"type\":\"struct\",...|abfss://zhaotest@...| ACTIVE|\n|deptIndex2|    [location]|     [deptName]|       200|{\"type\":\"struct\",...|abfss://zhaotest@...|DELETED|\n|  empIndex|      [deptId]|      [empName]|       200|{\"type\":\"struct\",...|abfss://zhaotest@...| ACTIVE|\n+----------+--------------+---------------+----------+--------------------+--------------------+-------+\n\n"
          },
          "metadata": {}
        }
      ],
      "execution_count": 10,
      "metadata": {}
    },
    {
      "cell_type": "markdown",
      "source": [
        "### Restore Indexes\n",
        "A user can use the `restoreIndex` API to restore a deleted index. This will bring back the latest version of index into ACTIVE status and makes it usable again for queries. \n",
        "\n",
        "The cell below shows an example of `restoreIndex` API. We delete \"deptIndex1\" and restore it. The output shows \"deptIndex1\" first went into the \"DELETED\" status after invoking \"deleteIndex\" command and came back to the \"ACTIVE\" status after calling \"restoreIndex\"."
      ],
      "metadata": {}
    },
    {
      "cell_type": "code",
      "source": [
        "hyperspace.deleteIndex(\"deptIndex1\")\n",
        "\n",
        "hyperspace.indexes.show\n",
        "\n",
        "hyperspace.restoreIndex(\"deptIndex1\")\n",
        "\n",
        "hyperspace.indexes.show"
      ],
      "outputs": [
        {
          "output_type": "display_data",
          "data": {
            "application/vnd.livy.statement-meta+json": {
              "spark_pool": "small",
              "session_id": 17,
              "statement_id": 13,
              "state": "finished",
              "livy_statement_state": "available",
              "queued_time": "2021-02-23T06:16:13.9842307Z",
              "execution_start_time": "2021-02-23T06:17:09.2259562Z",
              "execution_finish_time": "2021-02-23T06:17:13.2962146Z"
            },
            "text/plain": "StatementMeta(small, 17, 13, Finished, Available)"
          },
          "metadata": {}
        },
        {
          "output_type": "execute_result",
          "execution_count": 11,
          "data": {
            "text/plain": "+----------+--------------+---------------+----------+--------------------+--------------------+-------+\n|      name|indexedColumns|includedColumns|numBuckets|              schema|       indexLocation|  state|\n+----------+--------------+---------------+----------+--------------------+--------------------+-------+\n|deptIndex1|      [deptId]|     [deptName]|       200|{\"type\":\"struct\",...|abfss://zhaotest@...|DELETED|\n|deptIndex2|    [location]|     [deptName]|       200|{\"type\":\"struct\",...|abfss://zhaotest@...|DELETED|\n|  empIndex|      [deptId]|      [empName]|       200|{\"type\":\"struct\",...|abfss://zhaotest@...| ACTIVE|\n+----------+--------------+---------------+----------+--------------------+--------------------+-------+\n\n+----------+--------------+---------------+----------+--------------------+--------------------+-------+\n|      name|indexedColumns|includedColumns|numBuckets|              schema|       indexLocation|  state|\n+----------+--------------+---------------+----------+--------------------+--------------------+-------+\n|deptIndex1|      [deptId]|     [deptName]|       200|{\"type\":\"struct\",...|abfss://zhaotest@...| ACTIVE|\n|deptIndex2|    [location]|     [deptName]|       200|{\"type\":\"struct\",...|abfss://zhaotest@...|DELETED|\n|  empIndex|      [deptId]|      [empName]|       200|{\"type\":\"struct\",...|abfss://zhaotest@...| ACTIVE|\n+----------+--------------+---------------+----------+--------------------+--------------------+-------+\n\n"
          },
          "metadata": {}
        }
      ],
      "execution_count": 11,
      "metadata": {}
    },
    {
      "cell_type": "markdown",
      "source": [
        "### Vacuum Indexes\n",
        "The user can perform a **hard-delete** i.e., fully remove files and the metadata entry for a deleted index using the `vacuumIndex` API. Once done, this action is **irreversible** as it physically deletes all the index files associated with the index.\n",
        "\n",
        "The cell below vacuums the \"deptIndex2\" index and shows Hyperspace metadata after vaccuming. You should see metadata entries for two indexes \"deptIndex1\" and \"empIndex\" both with \"ACTIVE\" status and no entry for \"deptIndex2\"."
      ],
      "metadata": {}
    },
    {
      "cell_type": "code",
      "source": [
        "hyperspace.vacuumIndex(\"deptIndex2\")\n",
        "\n",
        "hyperspace.indexes.show"
      ],
      "outputs": [
        {
          "output_type": "display_data",
          "data": {
            "application/vnd.livy.statement-meta+json": {
              "spark_pool": "small",
              "session_id": 17,
              "statement_id": 14,
              "state": "finished",
              "livy_statement_state": "available",
              "queued_time": "2021-02-23T06:16:14.1118937Z",
              "execution_start_time": "2021-02-23T06:17:13.3637637Z",
              "execution_finish_time": "2021-02-23T06:17:15.397204Z"
            },
            "text/plain": "StatementMeta(small, 17, 14, Finished, Available)"
          },
          "metadata": {}
        },
        {
          "output_type": "execute_result",
          "execution_count": 12,
          "data": {
            "text/plain": "+----------+--------------+---------------+----------+--------------------+--------------------+------+\n|      name|indexedColumns|includedColumns|numBuckets|              schema|       indexLocation| state|\n+----------+--------------+---------------+----------+--------------------+--------------------+------+\n|deptIndex1|      [deptId]|     [deptName]|       200|{\"type\":\"struct\",...|abfss://zhaotest@...|ACTIVE|\n|  empIndex|      [deptId]|      [empName]|       200|{\"type\":\"struct\",...|abfss://zhaotest@...|ACTIVE|\n+----------+--------------+---------------+----------+--------------------+--------------------+------+\n\n"
          },
          "metadata": {}
        }
      ],
      "execution_count": 12,
      "metadata": {}
    },
    {
      "cell_type": "markdown",
      "source": [
        "## Enable/Disable Hyperspace\n",
        "\n",
        "Hyperspace provides APIs to enable or disable index usage with Spark™.\n",
        "\n",
        "  - By using `enableHyperspace` API, Hyperspace optimization rules become visible to the Apache Spark™ optimizer and it will exploit existing Hyperspace indexes to optimize user queries.\n",
        "  - By using `disableHyperspace` command, Hyperspace rules no longer apply during query optimization. You should note that disabling Hyperspace has no impact on created indexes as they remain intact.\n",
        "\n",
        "Below cell shows how you can use these commands to enable or disable hyperspace. The output simply shows a reference to the existing Spark™ session whose configuration is updated."
      ],
      "metadata": {}
    },
    {
      "cell_type": "code",
      "source": [
        "// Enable Hyperspace\n",
        "spark.enableHyperspace\n",
        "\n",
        "// Disable Hyperspace\n",
        "spark.disableHyperspace"
      ],
      "outputs": [
        {
          "output_type": "display_data",
          "data": {
            "application/vnd.livy.statement-meta+json": {
              "spark_pool": "small",
              "session_id": 17,
              "statement_id": 15,
              "state": "finished",
              "livy_statement_state": "available",
              "queued_time": "2021-02-23T06:16:14.2599249Z",
              "execution_start_time": "2021-02-23T06:17:15.4637528Z",
              "execution_finish_time": "2021-02-23T06:17:17.5065382Z"
            },
            "text/plain": "StatementMeta(small, 17, 15, Finished, Available)"
          },
          "metadata": {}
        },
        {
          "output_type": "execute_result",
          "execution_count": 13,
          "data": {
            "text/plain": "res59: org.apache.spark.sql.SparkSession = org.apache.spark.sql.SparkSession@34ab7b5f\nres62: org.apache.spark.sql.SparkSession = org.apache.spark.sql.SparkSession@34ab7b5f\n"
          },
          "metadata": {}
        }
      ],
      "execution_count": 13,
      "metadata": {}
    },
    {
      "cell_type": "markdown",
      "source": [
        "## Index Usage\n",
        "In order to make Spark™ use Hyperspace indexes during query processing, the user needs to make sure that Hyperspace is enabled. \n",
        "\n",
        "The cell below enables Hyperspace and creates two DataFrames containing our sample data records which we use for running example queries. For each DataFrame, a few sample rows are printed."
      ],
      "metadata": {}
    },
    {
      "cell_type": "code",
      "source": [
        "// Enable Hyperspace\n",
        "spark.enableHyperspace\n",
        "\n",
        "val empDFrame: DataFrame = spark.read.parquet(empLocation)\n",
        "val deptDFrame: DataFrame = spark.read.parquet(deptLocation)\n",
        "\n",
        "empDFrame.show(5)\n",
        "deptDFrame.show(5)"
      ],
      "outputs": [
        {
          "output_type": "display_data",
          "data": {
            "application/vnd.livy.statement-meta+json": {
              "spark_pool": "small",
              "session_id": 17,
              "statement_id": 16,
              "state": "finished",
              "livy_statement_state": "available",
              "queued_time": "2021-02-23T06:16:14.3277444Z",
              "execution_start_time": "2021-02-23T06:17:17.5745731Z",
              "execution_finish_time": "2021-02-23T06:17:21.6563462Z"
            },
            "text/plain": "StatementMeta(small, 17, 16, Finished, Available)"
          },
          "metadata": {}
        },
        {
          "output_type": "execute_result",
          "execution_count": 14,
          "data": {
            "text/plain": "res64: org.apache.spark.sql.SparkSession = org.apache.spark.sql.SparkSession@34ab7b5f\nempDFrame: org.apache.spark.sql.DataFrame = [empId: int, empName: string ... 1 more field]\ndeptDFrame: org.apache.spark.sql.DataFrame = [deptId: int, deptName: string ... 1 more field]\n+-----+-------+------+\n|empId|empName|deptId|\n+-----+-------+------+\n| 7499|  ALLEN|    30|\n| 7521|   WARD|    30|\n| 7369|  SMITH|    20|\n| 7844| TURNER|    30|\n| 7876|  ADAMS|    20|\n+-----+-------+------+\nonly showing top 5 rows\n\n+------+----------+--------+\n|deptId|  deptName|location|\n+------+----------+--------+\n|    10|Accounting|New York|\n|    40|Operations|  Boston|\n|    20|  Research|  Dallas|\n|    30|     Sales| Chicago|\n+------+----------+--------+\n\n"
          },
          "metadata": {}
        }
      ],
      "execution_count": 14,
      "metadata": {}
    },
    {
      "cell_type": "markdown",
      "source": [
        "# Hyperspace's Index Types\n",
        "\n",
        "Currently, Hyperspace can exploit indexes for two groups of queries: \n",
        "* Selection queries with lookup or range selection filtering predicates.\n",
        "* Join queries with an equality join predicate (i.e. Equi-joins)."
      ],
      "metadata": {}
    },
    {
      "cell_type": "markdown",
      "source": [
        "## Indexes for Accelerating Filters\n",
        "\n",
        "Our first example query does a lookup on department records (see below cell). In SQL, this query looks as follows:\n",
        "\n",
        "```sql\n",
        "SELECT deptName \n",
        "FROM departments\n",
        "WHERE deptId = 20\n",
        "```\n",
        "\n",
        "The output of running the cell below shows: \n",
        "- query result, which is a single department name.\n",
        "- query plan that Spark™ used to run the query. \n",
        "\n",
        "In the query plan, the \"FileScan\" operator at the bottom of the plan shows the datasource where the records were read from. The location of this file indicates the path to the latest version of the \"deptIndex1\" index. This shows  that according to the query and using Hyperspace optimization rules, Spark™ decided to exploit the proper index at runtime.\n"
      ],
      "metadata": {}
    },
    {
      "cell_type": "code",
      "source": [
        "// Filter with equality predicate\n",
        "\n",
        "val eqFilter: DataFrame = deptDFrame.filter(\"deptId = 20\").select(\"deptName\")\n",
        "eqFilter.show()\n",
        "\n",
        "hyperspace.explain(eqFilter)(displayHTML(_))"
      ],
      "outputs": [
        {
          "output_type": "display_data",
          "data": {
            "application/vnd.livy.statement-meta+json": {
              "spark_pool": "small",
              "session_id": 17,
              "statement_id": 17,
              "state": "finished",
              "livy_statement_state": "available",
              "queued_time": "2021-02-23T06:16:14.3848352Z",
              "execution_start_time": "2021-02-23T06:17:21.7261028Z",
              "execution_finish_time": "2021-02-23T06:17:25.7963921Z"
            },
            "text/plain": "StatementMeta(small, 17, 17, Finished, Available)"
          },
          "metadata": {}
        },
        {
          "output_type": "display_data",
          "data": {
            "text/plain": "eqFilter: org.apache.spark.sql.DataFrame = [deptName: string]\n+--------+\n|deptName|\n+--------+\n|Research|\n+--------+\n\n"
          },
          "metadata": {}
        },
        {
          "output_type": "display_data",
          "data": {
            "text/html": "<pre>=============================================================<br>Plan with indexes:<br>=============================================================<br>Project [deptName#527]<br>+- Filter (isnotnull(deptId#526) && (deptId#526 = 20))<br>   <b style=\"background:LightGreen\">+- FileScan Hyperspace(Type: CI, Name: deptIndex1, LogVersion: 5) [deptId#526,deptName#527] Batched: true, Format: Parquet, Location: InMemoryFileIndex[abfss://zhaotest@bdbjtestgen2.dfs.core.windows.net/hyperspace/indexes-269515/de..., PartitionFilters: [], PushedFilters: [IsNotNull(deptId), EqualTo(deptId,20)], ReadSchema: struct<deptId:int,deptName:string></b><br><br>=============================================================<br>Plan without indexes:<br>=============================================================<br>Project [deptName#527]<br>+- Filter (isnotnull(deptId#526) && (deptId#526 = 20))<br>   <b style=\"background:LightGreen\">+- FileScan parquet [deptId#526,deptName#527] Batched: true, Format: Parquet, Location: InMemoryFileIndex[abfss://zhaotest@bdbjtestgen2.dfs.core.windows.net/hyperspace/data-269515/depar..., PartitionFilters: [], PushedFilters: [IsNotNull(deptId), EqualTo(deptId,20)], ReadSchema: struct<deptId:int,deptName:string></b><br><br>=============================================================<br>Indexes used:<br>=============================================================<br>deptIndex1:abfss://zhaotest@bdbjtestgen2.dfs.core.windows.net/hyperspace/indexes-269515/deptIndex1/v__=0<br><br></pre>"
          },
          "metadata": {}
        },
        {
          "output_type": "display_data",
          "data": {
            "text/plain": "\n"
          },
          "metadata": {}
        },
        {
          "output_type": "execute_result",
          "execution_count": 15,
          "data": {},
          "metadata": {}
        }
      ],
      "execution_count": 15,
      "metadata": {}
    },
    {
      "cell_type": "markdown",
      "source": [
        "Our second example is a range selection query on department records. In SQL, this query looks as follows:\n",
        "\n",
        "```sql\n",
        "SELECT deptName \n",
        "FROM departments\n",
        "WHERE deptId > 20\n",
        "```\n",
        "Similar to our first example, the output of the cell below shows the query results (names of two departments) and the query plan. The location of data file in the FileScan operator shows that 'deptIndex1\" was used to run the query.   \n"
      ],
      "metadata": {}
    },
    {
      "cell_type": "code",
      "source": [
        "// Filter with range selection predicate\n",
        "\n",
        "val rangeFilter: DataFrame = deptDFrame.filter(\"deptId > 20\").select(\"deptName\")\n",
        "rangeFilter.show()\n",
        "\n",
        "hyperspace.explain(rangeFilter)(displayHTML(_))"
      ],
      "outputs": [
        {
          "output_type": "display_data",
          "data": {
            "application/vnd.livy.statement-meta+json": {
              "spark_pool": "small",
              "session_id": 17,
              "statement_id": 18,
              "state": "finished",
              "livy_statement_state": "available",
              "queued_time": "2021-02-23T06:16:14.4329075Z",
              "execution_start_time": "2021-02-23T06:17:25.8659626Z",
              "execution_finish_time": "2021-02-23T06:17:27.9021085Z"
            },
            "text/plain": "StatementMeta(small, 17, 18, Finished, Available)"
          },
          "metadata": {}
        },
        {
          "output_type": "display_data",
          "data": {
            "text/plain": "rangeFilter: org.apache.spark.sql.DataFrame = [deptName: string]\n+----------+\n|  deptName|\n+----------+\n|Operations|\n|     Sales|\n+----------+\n\n"
          },
          "metadata": {}
        },
        {
          "output_type": "display_data",
          "data": {
            "text/html": "<pre>=============================================================<br>Plan with indexes:<br>=============================================================<br>Project [deptName#527]<br>+- Filter (isnotnull(deptId#526) && (deptId#526 > 20))<br>   <b style=\"background:LightGreen\">+- FileScan Hyperspace(Type: CI, Name: deptIndex1, LogVersion: 5) [deptId#526,deptName#527] Batched: true, Format: Parquet, Location: InMemoryFileIndex[abfss://zhaotest@bdbjtestgen2.dfs.core.windows.net/hyperspace/indexes-269515/de..., PartitionFilters: [], PushedFilters: [IsNotNull(deptId), GreaterThan(deptId,20)], ReadSchema: struct<deptId:int,deptName:string></b><br><br>=============================================================<br>Plan without indexes:<br>=============================================================<br>Project [deptName#527]<br>+- Filter (isnotnull(deptId#526) && (deptId#526 > 20))<br>   <b style=\"background:LightGreen\">+- FileScan parquet [deptId#526,deptName#527] Batched: true, Format: Parquet, Location: InMemoryFileIndex[abfss://zhaotest@bdbjtestgen2.dfs.core.windows.net/hyperspace/data-269515/depar..., PartitionFilters: [], PushedFilters: [IsNotNull(deptId), GreaterThan(deptId,20)], ReadSchema: struct<deptId:int,deptName:string></b><br><br>=============================================================<br>Indexes used:<br>=============================================================<br>deptIndex1:abfss://zhaotest@bdbjtestgen2.dfs.core.windows.net/hyperspace/indexes-269515/deptIndex1/v__=0<br><br></pre>"
          },
          "metadata": {}
        },
        {
          "output_type": "display_data",
          "data": {
            "text/plain": "\n"
          },
          "metadata": {}
        },
        {
          "output_type": "execute_result",
          "execution_count": 16,
          "data": {},
          "metadata": {}
        }
      ],
      "execution_count": 16,
      "metadata": {}
    },
    {
      "cell_type": "markdown",
      "source": [
        "Our third example is a query joining department and employee records on the department id. The equivalent SQL statement is shown below:\n",
        "\n",
        "```sql\n",
        "SELECT employees.deptId, empName, departments.deptId, deptName\n",
        "FROM   employees, departments \n",
        "WHERE  employees.deptId = departments.deptId\n",
        "```\n",
        "\n",
        "The output of running the cell below shows the query results which are the names of 14 employees and the name of department each employee works in. The query plan is also included in the output. Notice how the file locations for two FileScan operators shows that Spark™ used \"empIndex\" and \"deptIndex1\" indexes to run the query.   \n"
      ],
      "metadata": {}
    },
    {
      "cell_type": "code",
      "source": [
        "// Join\n",
        "\n",
        "val eqJoin: DataFrame =\n",
        "      empDFrame.\n",
        "      join(deptDFrame, empDFrame(\"deptId\") === deptDFrame(\"deptId\")).\n",
        "      select(empDFrame(\"empName\"), deptDFrame(\"deptName\"))\n",
        "\n",
        "eqJoin.show()\n",
        "\n",
        "hyperspace.explain(eqJoin)(displayHTML(_))"
      ],
      "outputs": [
        {
          "output_type": "display_data",
          "data": {
            "application/vnd.livy.statement-meta+json": {
              "spark_pool": "small",
              "session_id": 17,
              "statement_id": 19,
              "state": "finished",
              "livy_statement_state": "available",
              "queued_time": "2021-02-23T06:16:14.4876135Z",
              "execution_start_time": "2021-02-23T06:17:27.9744815Z",
              "execution_finish_time": "2021-02-23T06:17:32.0448054Z"
            },
            "text/plain": "StatementMeta(small, 17, 19, Finished, Available)"
          },
          "metadata": {}
        },
        {
          "output_type": "display_data",
          "data": {
            "text/plain": "eqJoin: org.apache.spark.sql.DataFrame = [empName: string, deptName: string]\n+-------+----------+\n|empName|  deptName|\n+-------+----------+\n|  SMITH|  Research|\n|  JONES|  Research|\n|   FORD|  Research|\n|  ADAMS|  Research|\n|  SCOTT|  Research|\n|   KING|Accounting|\n|  CLARK|Accounting|\n| MILLER|Accounting|\n|  JAMES|     Sales|\n|  BLAKE|     Sales|\n| MARTIN|     Sales|\n|  ALLEN|     Sales|\n|   WARD|     Sales|\n| TURNER|     Sales|\n+-------+----------+\n\n"
          },
          "metadata": {}
        },
        {
          "output_type": "display_data",
          "data": {
            "text/html": "<pre>=============================================================<br>Plan with indexes:<br>=============================================================<br>Project [empName#521, deptName#527]<br>+- SortMergeJoin [deptId#522], [deptId#526], Inner<br>   <b style=\"background:LightGreen\">:- *(1) Project [empName#521, deptId#522]</b><br>   <b style=\"background:LightGreen\">:  +- *(1) Filter isnotnull(deptId#522)</b><br>   <b style=\"background:LightGreen\">:     +- *(1) FileScan Hyperspace(Type: CI, Name: empIndex, LogVersion: 1) [deptId#522,empName#521] Batched: true, Format: Parquet, Location: InMemoryFileIndex[abfss://zhaotest@bdbjtestgen2.dfs.core.windows.net/hyperspace/indexes-269515/em..., PartitionFilters: [], PushedFilters: [IsNotNull(deptId)], ReadSchema: struct<deptId:int,empName:string>, SelectedBucketsCount: 200 out of 200</b><br>   <b style=\"background:LightGreen\">+- *(2) Project [deptId#526, deptName#527]</b><br>      <b style=\"background:LightGreen\">+- *(2) Filter isnotnull(deptId#526)</b><br>         <b style=\"background:LightGreen\">+- *(2) FileScan Hyperspace(Type: CI, Name: deptIndex1, LogVersion: 5) [deptId#526,deptName#527] Batched: true, Format: Parquet, Location: InMemoryFileIndex[abfss://zhaotest@bdbjtestgen2.dfs.core.windows.net/hyperspace/indexes-269515/de..., PartitionFilters: [], PushedFilters: [IsNotNull(deptId)], ReadSchema: struct<deptId:int,deptName:string>, SelectedBucketsCount: 200 out of 200</b><br><br>=============================================================<br>Plan without indexes:<br>=============================================================<br>Project [empName#521, deptName#527]<br>+- SortMergeJoin [deptId#522], [deptId#526], Inner<br>   <b style=\"background:LightGreen\">:- *(2) Sort [deptId#522 ASC NULLS FIRST], false, 0</b><br>   <b style=\"background:LightGreen\">:  +- Exchange hashpartitioning(deptId#522, 200), [id=#175]</b><br>   <b style=\"background:LightGreen\">:     +- *(1) Project [empName#521, deptId#522]</b><br>   <b style=\"background:LightGreen\">:        +- *(1) Filter isnotnull(deptId#522)</b><br>   <b style=\"background:LightGreen\">:           +- *(1) FileScan parquet [empName#521,deptId#522] Batched: true, Format: Parquet, Location: InMemoryFileIndex[abfss://zhaotest@bdbjtestgen2.dfs.core.windows.net/hyperspace/data-269515/emplo..., PartitionFilters: [], PushedFilters: [IsNotNull(deptId)], ReadSchema: struct<empName:string,deptId:int></b><br>   <b style=\"background:LightGreen\">+- *(4) Sort [deptId#526 ASC NULLS FIRST], false, 0</b><br>      <b style=\"background:LightGreen\">+- Exchange hashpartitioning(deptId#526, 200), [id=#181]</b><br>         <b style=\"background:LightGreen\">+- *(3) Project [deptId#526, deptName#527]</b><br>            <b style=\"background:LightGreen\">+- *(3) Filter isnotnull(deptId#526)</b><br>               <b style=\"background:LightGreen\">+- *(3) FileScan parquet [deptId#526,deptName#527] Batched: true, Format: Parquet, Location: InMemoryFileIndex[abfss://zhaotest@bdbjtestgen2.dfs.core.windows.net/hyperspace/data-269515/depar..., PartitionFilters: [], PushedFilters: [IsNotNull(deptId)], ReadSchema: struct<deptId:int,deptName:string></b><br><br>=============================================================<br>Indexes used:<br>=============================================================<br>deptIndex1:abfss://zhaotest@bdbjtestgen2.dfs.core.windows.net/hyperspace/indexes-269515/deptIndex1/v__=0<br>empIndex:abfss://zhaotest@bdbjtestgen2.dfs.core.windows.net/hyperspace/indexes-269515/empIndex/v__=0<br><br></pre>"
          },
          "metadata": {}
        },
        {
          "output_type": "display_data",
          "data": {
            "text/plain": "\n"
          },
          "metadata": {}
        },
        {
          "output_type": "execute_result",
          "execution_count": 17,
          "data": {},
          "metadata": {}
        }
      ],
      "execution_count": 17,
      "metadata": {}
    },
    {
      "cell_type": "markdown",
      "source": [
        "## Support for SQL Semantics\n",
        "\n",
        "The index usage is transparent to whether the user uses DataFrame API or Spark™ SQL. The following example shows the same join example as before but using Spark SQL, showing the use of indexes if applicable."
      ],
      "metadata": {}
    },
    {
      "cell_type": "code",
      "source": [
        "empDFrame.createOrReplaceTempView(\"EMP\")\n",
        "deptDFrame.createOrReplaceTempView(\"DEPT\")\n",
        "\n",
        "val joinQuery = spark.sql(\"SELECT EMP.empName, DEPT.deptName FROM EMP, DEPT WHERE EMP.deptId = DEPT.deptId\")\n",
        "\n",
        "joinQuery.show()\n",
        "hyperspace.explain(joinQuery)(displayHTML(_))"
      ],
      "outputs": [
        {
          "output_type": "display_data",
          "data": {
            "application/vnd.livy.statement-meta+json": {
              "spark_pool": "small",
              "session_id": 17,
              "statement_id": 20,
              "state": "finished",
              "livy_statement_state": "available",
              "queued_time": "2021-02-23T06:16:14.5619569Z",
              "execution_start_time": "2021-02-23T06:17:32.1160155Z",
              "execution_finish_time": "2021-02-23T06:17:40.2583287Z"
            },
            "text/plain": "StatementMeta(small, 17, 20, Finished, Available)"
          },
          "metadata": {}
        },
        {
          "output_type": "display_data",
          "data": {
            "text/plain": "joinQuery: org.apache.spark.sql.DataFrame = [empName: string, deptName: string]\n+-------+----------+\n|empName|  deptName|\n+-------+----------+\n|  SMITH|  Research|\n|  JONES|  Research|\n|   FORD|  Research|\n|  ADAMS|  Research|\n|  SCOTT|  Research|\n|   KING|Accounting|\n|  CLARK|Accounting|\n| MILLER|Accounting|\n|  JAMES|     Sales|\n|  BLAKE|     Sales|\n| MARTIN|     Sales|\n|  ALLEN|     Sales|\n|   WARD|     Sales|\n| TURNER|     Sales|\n+-------+----------+\n\n"
          },
          "metadata": {}
        },
        {
          "output_type": "display_data",
          "data": {
            "text/html": "<pre>=============================================================<br>Plan with indexes:<br>=============================================================<br>Project [empName#521, deptName#527]<br>+- SortMergeJoin [deptId#522], [deptId#526], Inner<br>   <b style=\"background:LightGreen\">:- *(1) Project [empName#521, deptId#522]</b><br>   <b style=\"background:LightGreen\">:  +- *(1) Filter isnotnull(deptId#522)</b><br>   <b style=\"background:LightGreen\">:     +- *(1) FileScan Hyperspace(Type: CI, Name: empIndex, LogVersion: 1) [deptId#522,empName#521] Batched: true, Format: Parquet, Location: InMemoryFileIndex[abfss://zhaotest@bdbjtestgen2.dfs.core.windows.net/hyperspace/indexes-269515/em..., PartitionFilters: [], PushedFilters: [IsNotNull(deptId)], ReadSchema: struct<deptId:int,empName:string>, SelectedBucketsCount: 200 out of 200</b><br>   <b style=\"background:LightGreen\">+- *(2) Project [deptId#526, deptName#527]</b><br>      <b style=\"background:LightGreen\">+- *(2) Filter isnotnull(deptId#526)</b><br>         <b style=\"background:LightGreen\">+- *(2) FileScan Hyperspace(Type: CI, Name: deptIndex1, LogVersion: 5) [deptId#526,deptName#527] Batched: true, Format: Parquet, Location: InMemoryFileIndex[abfss://zhaotest@bdbjtestgen2.dfs.core.windows.net/hyperspace/indexes-269515/de..., PartitionFilters: [], PushedFilters: [IsNotNull(deptId)], ReadSchema: struct<deptId:int,deptName:string>, SelectedBucketsCount: 200 out of 200</b><br><br>=============================================================<br>Plan without indexes:<br>=============================================================<br>Project [empName#521, deptName#527]<br>+- SortMergeJoin [deptId#522], [deptId#526], Inner<br>   <b style=\"background:LightGreen\">:- *(2) Sort [deptId#522 ASC NULLS FIRST], false, 0</b><br>   <b style=\"background:LightGreen\">:  +- Exchange hashpartitioning(deptId#522, 200), [id=#267]</b><br>   <b style=\"background:LightGreen\">:     +- *(1) Project [empName#521, deptId#522]</b><br>   <b style=\"background:LightGreen\">:        +- *(1) Filter isnotnull(deptId#522)</b><br>   <b style=\"background:LightGreen\">:           +- *(1) FileScan parquet [empName#521,deptId#522] Batched: true, Format: Parquet, Location: InMemoryFileIndex[abfss://zhaotest@bdbjtestgen2.dfs.core.windows.net/hyperspace/data-269515/emplo..., PartitionFilters: [], PushedFilters: [IsNotNull(deptId)], ReadSchema: struct<empName:string,deptId:int></b><br>   <b style=\"background:LightGreen\">+- *(4) Sort [deptId#526 ASC NULLS FIRST], false, 0</b><br>      <b style=\"background:LightGreen\">+- Exchange hashpartitioning(deptId#526, 200), [id=#273]</b><br>         <b style=\"background:LightGreen\">+- *(3) Project [deptId#526, deptName#527]</b><br>            <b style=\"background:LightGreen\">+- *(3) Filter isnotnull(deptId#526)</b><br>               <b style=\"background:LightGreen\">+- *(3) FileScan parquet [deptId#526,deptName#527] Batched: true, Format: Parquet, Location: InMemoryFileIndex[abfss://zhaotest@bdbjtestgen2.dfs.core.windows.net/hyperspace/data-269515/depar..., PartitionFilters: [], PushedFilters: [IsNotNull(deptId)], ReadSchema: struct<deptId:int,deptName:string></b><br><br>=============================================================<br>Indexes used:<br>=============================================================<br>deptIndex1:abfss://zhaotest@bdbjtestgen2.dfs.core.windows.net/hyperspace/indexes-269515/deptIndex1/v__=0<br>empIndex:abfss://zhaotest@bdbjtestgen2.dfs.core.windows.net/hyperspace/indexes-269515/empIndex/v__=0<br><br></pre>"
          },
          "metadata": {}
        },
        {
          "output_type": "display_data",
          "data": {
            "text/plain": "\n"
          },
          "metadata": {}
        },
        {
          "output_type": "execute_result",
          "execution_count": 18,
          "data": {},
          "metadata": {}
        }
      ],
      "execution_count": 18,
      "metadata": {}
    },
    {
      "cell_type": "markdown",
      "source": [
        "## Explain API\n",
        "\n",
        "So far, you might have observed we have been using the explain API provided by Hyperspace. The `explain` API from Hyperspace is very similar to Spark's `df.explain` API but allows users to compare their original plan vs the updated index-dependent plan before running their query. You have an option to choose from html/plaintext/console mode to display the command output. \n",
        "\n",
        "The following cell shows an example with HTML. The highlighted section represents the difference between original and updated plans along with the indexes being used."
      ],
      "metadata": {}
    },
    {
      "cell_type": "code",
      "source": [
        "spark.conf.set(\"spark.hyperspace.explain.displayMode\", \"html\")\n",
        "hyperspace.explain(eqJoin)(displayHTML(_))"
      ],
      "outputs": [
        {
          "output_type": "display_data",
          "data": {
            "application/vnd.livy.statement-meta+json": {
              "spark_pool": "small",
              "session_id": 17,
              "statement_id": 21,
              "state": "finished",
              "livy_statement_state": "available",
              "queued_time": "2021-02-23T06:16:14.6277916Z",
              "execution_start_time": "2021-02-23T06:17:40.3327364Z",
              "execution_finish_time": "2021-02-23T06:17:42.3725474Z"
            },
            "text/plain": "StatementMeta(small, 17, 21, Finished, Available)"
          },
          "metadata": {}
        },
        {
          "output_type": "display_data",
          "data": {
            "text/html": "<pre>=============================================================<br>Plan with indexes:<br>=============================================================<br>Project [empName#521, deptName#527]<br>+- SortMergeJoin [deptId#522], [deptId#526], Inner<br>   <b style=\"background:LightGreen\">:- *(1) Project [empName#521, deptId#522]</b><br>   <b style=\"background:LightGreen\">:  +- *(1) Filter isnotnull(deptId#522)</b><br>   <b style=\"background:LightGreen\">:     +- *(1) FileScan Hyperspace(Type: CI, Name: empIndex, LogVersion: 1) [deptId#522,empName#521] Batched: true, Format: Parquet, Location: InMemoryFileIndex[abfss://zhaotest@bdbjtestgen2.dfs.core.windows.net/hyperspace/indexes-269515/em..., PartitionFilters: [], PushedFilters: [IsNotNull(deptId)], ReadSchema: struct<deptId:int,empName:string>, SelectedBucketsCount: 200 out of 200</b><br>   <b style=\"background:LightGreen\">+- *(2) Project [deptId#526, deptName#527]</b><br>      <b style=\"background:LightGreen\">+- *(2) Filter isnotnull(deptId#526)</b><br>         <b style=\"background:LightGreen\">+- *(2) FileScan Hyperspace(Type: CI, Name: deptIndex1, LogVersion: 5) [deptId#526,deptName#527] Batched: true, Format: Parquet, Location: InMemoryFileIndex[abfss://zhaotest@bdbjtestgen2.dfs.core.windows.net/hyperspace/indexes-269515/de..., PartitionFilters: [], PushedFilters: [IsNotNull(deptId)], ReadSchema: struct<deptId:int,deptName:string>, SelectedBucketsCount: 200 out of 200</b><br><br>=============================================================<br>Plan without indexes:<br>=============================================================<br>Project [empName#521, deptName#527]<br>+- SortMergeJoin [deptId#522], [deptId#526], Inner<br>   <b style=\"background:LightGreen\">:- *(2) Sort [deptId#522 ASC NULLS FIRST], false, 0</b><br>   <b style=\"background:LightGreen\">:  +- Exchange hashpartitioning(deptId#522, 200), [id=#329]</b><br>   <b style=\"background:LightGreen\">:     +- *(1) Project [empName#521, deptId#522]</b><br>   <b style=\"background:LightGreen\">:        +- *(1) Filter isnotnull(deptId#522)</b><br>   <b style=\"background:LightGreen\">:           +- *(1) FileScan parquet [empName#521,deptId#522] Batched: true, Format: Parquet, Location: InMemoryFileIndex[abfss://zhaotest@bdbjtestgen2.dfs.core.windows.net/hyperspace/data-269515/emplo..., PartitionFilters: [], PushedFilters: [IsNotNull(deptId)], ReadSchema: struct<empName:string,deptId:int></b><br>   <b style=\"background:LightGreen\">+- *(4) Sort [deptId#526 ASC NULLS FIRST], false, 0</b><br>      <b style=\"background:LightGreen\">+- Exchange hashpartitioning(deptId#526, 200), [id=#335]</b><br>         <b style=\"background:LightGreen\">+- *(3) Project [deptId#526, deptName#527]</b><br>            <b style=\"background:LightGreen\">+- *(3) Filter isnotnull(deptId#526)</b><br>               <b style=\"background:LightGreen\">+- *(3) FileScan parquet [deptId#526,deptName#527] Batched: true, Format: Parquet, Location: InMemoryFileIndex[abfss://zhaotest@bdbjtestgen2.dfs.core.windows.net/hyperspace/data-269515/depar..., PartitionFilters: [], PushedFilters: [IsNotNull(deptId)], ReadSchema: struct<deptId:int,deptName:string></b><br><br>=============================================================<br>Indexes used:<br>=============================================================<br>deptIndex1:abfss://zhaotest@bdbjtestgen2.dfs.core.windows.net/hyperspace/indexes-269515/deptIndex1/v__=0<br>empIndex:abfss://zhaotest@bdbjtestgen2.dfs.core.windows.net/hyperspace/indexes-269515/empIndex/v__=0<br><br></pre>"
          },
          "metadata": {}
        },
        {
          "output_type": "display_data",
          "data": {
            "text/plain": "\n"
          },
          "metadata": {}
        },
        {
          "output_type": "execute_result",
          "execution_count": 19,
          "data": {},
          "metadata": {}
        }
      ],
      "execution_count": 19,
      "metadata": {}
    },
    {
      "cell_type": "markdown",
      "source": [
        "## Refresh Indexes\n",
        "If the original data on which an index was created changes, then the index will no longer capture the latest state of data and hence will not be used by Hyperspace to provide any acceleration. The user can refresh such a stale index using the `refreshIndex` API. This causes the index to be fully rebuilt and updates it according to the latest data records.\n",
        "    \n",
        "    Spoiler alert: if you are worried about fully rebuilding your index every time your data changes, don't worry! We will show you how to *incrementally refresh* your index in subsequent cells below.\n",
        "\n",
        "The two cells below show an example for this scenario:\n",
        "- First cell adds two more departments to the original departments data. It reads and prints list of departments to verify new departments are added correctly. The output shows 6 departments in total: four old ones and two new. Invoking \"refreshIndex\" updates \"deptIndex1\" so index captures new departments.\n",
        "- Second cell runs our range selection query example. The results should now contain four departments: two are the ones, seen before when we ran the query above, and two are the new departments we just added."
      ],
      "metadata": {}
    },
    {
      "cell_type": "code",
      "source": [
        "val extraDepartments = Seq(\n",
        "      (50, \"Inovation\", \"Seattle\"),\n",
        "\t  (60, \"Human Resources\", \"San Francisco\"))\n",
        "\t  \n",
        "val extraDeptData: DataFrame = extraDepartments.toDF(\"deptId\", \"deptName\", \"location\")\n",
        "extraDeptData.write.mode(\"Append\").parquet(deptLocation)\n",
        "\n",
        "val deptDFrameUpdated: DataFrame = spark.read.parquet(deptLocation)\n",
        "\n",
        "deptDFrameUpdated.show(10)\n",
        "\n",
        "hyperspace.refreshIndex(\"deptIndex1\")"
      ],
      "outputs": [
        {
          "output_type": "display_data",
          "data": {
            "application/vnd.livy.statement-meta+json": {
              "spark_pool": "small",
              "session_id": 17,
              "statement_id": 22,
              "state": "finished",
              "livy_statement_state": "available",
              "queued_time": "2021-02-23T06:16:14.6831858Z",
              "execution_start_time": "2021-02-23T06:17:42.4390816Z",
              "execution_finish_time": "2021-02-23T06:17:50.6072898Z"
            },
            "text/plain": "StatementMeta(small, 17, 22, Finished, Available)"
          },
          "metadata": {}
        },
        {
          "output_type": "execute_result",
          "execution_count": 20,
          "data": {
            "text/plain": "extraDepartments: Seq[(Int, String, String)] = List((50,Inovation,Seattle), (60,Human Resources,San Francisco))\nextraDeptData: org.apache.spark.sql.DataFrame = [deptId: int, deptName: string ... 1 more field]\ndeptDFrameUpdated: org.apache.spark.sql.DataFrame = [deptId: int, deptName: string ... 1 more field]\n+------+---------------+-------------+\n|deptId|       deptName|     location|\n+------+---------------+-------------+\n|    60|Human Resources|San Francisco|\n|    10|     Accounting|     New York|\n|    50|      Inovation|      Seattle|\n|    40|     Operations|       Boston|\n|    20|       Research|       Dallas|\n|    30|          Sales|      Chicago|\n+------+---------------+-------------+\n\n"
          },
          "metadata": {}
        }
      ],
      "execution_count": 20,
      "metadata": {}
    },
    {
      "cell_type": "code",
      "source": [
        "val newRangeFilter: DataFrame = deptDFrameUpdated.filter(\"deptId > 20\").select(\"deptName\")\n",
        "newRangeFilter.show()\n",
        "\n",
        "hyperspace.explain(newRangeFilter)(displayHTML(_))"
      ],
      "outputs": [
        {
          "output_type": "display_data",
          "data": {
            "application/vnd.livy.statement-meta+json": {
              "spark_pool": "small",
              "session_id": 17,
              "statement_id": 23,
              "state": "finished",
              "livy_statement_state": "available",
              "queued_time": "2021-02-23T06:16:14.7388281Z",
              "execution_start_time": "2021-02-23T06:17:50.6798208Z",
              "execution_finish_time": "2021-02-23T06:17:52.714573Z"
            },
            "text/plain": "StatementMeta(small, 17, 23, Finished, Available)"
          },
          "metadata": {}
        },
        {
          "output_type": "display_data",
          "data": {
            "text/plain": "newRangeFilter: org.apache.spark.sql.DataFrame = [deptName: string]\n+---------------+\n|       deptName|\n+---------------+\n|Human Resources|\n|      Inovation|\n|     Operations|\n|          Sales|\n+---------------+\n\n"
          },
          "metadata": {}
        },
        {
          "output_type": "display_data",
          "data": {
            "text/html": "<pre>=============================================================<br>Plan with indexes:<br>=============================================================<br>Project [deptName#938]<br>+- Filter (isnotnull(deptId#937) && (deptId#937 > 20))<br>   <b style=\"background:LightGreen\">+- FileScan Hyperspace(Type: CI, Name: deptIndex1, LogVersion: 7) [deptId#937,deptName#938] Batched: true, Format: Parquet, Location: InMemoryFileIndex[abfss://zhaotest@bdbjtestgen2.dfs.core.windows.net/hyperspace/indexes-269515/de..., PartitionFilters: [], PushedFilters: [IsNotNull(deptId), GreaterThan(deptId,20)], ReadSchema: struct<deptId:int,deptName:string></b><br><br>=============================================================<br>Plan without indexes:<br>=============================================================<br>Project [deptName#938]<br>+- Filter (isnotnull(deptId#937) && (deptId#937 > 20))<br>   <b style=\"background:LightGreen\">+- FileScan parquet [deptId#937,deptName#938] Batched: true, Format: Parquet, Location: InMemoryFileIndex[abfss://zhaotest@bdbjtestgen2.dfs.core.windows.net/hyperspace/data-269515/depar..., PartitionFilters: [], PushedFilters: [IsNotNull(deptId), GreaterThan(deptId,20)], ReadSchema: struct<deptId:int,deptName:string></b><br><br>=============================================================<br>Indexes used:<br>=============================================================<br>deptIndex1:abfss://zhaotest@bdbjtestgen2.dfs.core.windows.net/hyperspace/indexes-269515/deptIndex1/v__=1<br><br></pre>"
          },
          "metadata": {}
        },
        {
          "output_type": "display_data",
          "data": {
            "text/plain": "\n"
          },
          "metadata": {}
        },
        {
          "output_type": "execute_result",
          "execution_count": 21,
          "data": {},
          "metadata": {}
        }
      ],
      "execution_count": 21,
      "metadata": {}
    },
    {
      "cell_type": "markdown",
      "source": [
        "## Hybrid Scan for Mutable Datasets\n",
        "\n",
        "Often times, if your underlying source data had some new files appended or existing files deleted, your index will get stale and Hyperspace decides not to use it. However, there are times where you just want to use the index without having to refresh it everytime. There could be multiple reasons for doing so:\n",
        "\n",
        "  1. You do not want to continuosly refresh your index but instead want to do it periodically since you understand your workloads the best.  \n",
        "  2. You added/removed only a few files and do not want to wait for yet another refresh job to finish. \n",
        "\n",
        "To allow you to still use a stale index, Hyperspace introduces **Hybrid Scan**, a novel technique that allows users to utilize outdated or stale indexes (e.g., the underlying source data had some new files appended or existing files deleted), without refreshing indexes. \n",
        "\n",
        "To achieve this, when you set the appropriate configuration to enable Hybrid Scan, Hyperspace modifies the query plan to leverage the changes as following:\n",
        "- Appended files can be merged to index data by using **`Union` or `BucketUnion` (for join)**. Shuffling appended data can also be applied before merging, if needed.\n",
        "- Deleted files can be handled by injecting `Filter-NOT-IN` condition on **lineage column** of index data, so that the indexed rows from the deleted files can be excluded at query time. \n",
        "\n",
        "You can check the transformation of the query plan in below examples.\n",
        "\n",
        "    Note: Hybrid scan is only supported for non-partitioned data. Support for partitioned data is currently being worked upon."
      ],
      "metadata": {}
    },
    {
      "cell_type": "markdown",
      "source": [
        "### Hybrid Scan for appended files - non-partitioned data\n",
        "\n",
        "Non-partitioned data is used in below example. In this example, we expect Join index can be used for the query and `BucketUnion` is introduced for appended files."
      ],
      "metadata": {}
    },
    {
      "cell_type": "code",
      "source": [
        "// GENERATE TEST DATA\n",
        "\n",
        "val testData = Seq(\n",
        "    (\"orange\", 3, \"2020-10-01\"),\n",
        "    (\"banana\", 1, \"2020-10-01\"),\n",
        "    (\"carrot\", 5, \"2020-10-02\"),\n",
        "    (\"beetroot\", 12, \"2020-10-02\"),\n",
        "    (\"orange\", 2, \"2020-10-03\"),\n",
        "    (\"banana\", 11, \"2020-10-03\"),\n",
        "    (\"carrot\", 3, \"2020-10-03\"),\n",
        "    (\"beetroot\", 2, \"2020-10-04\"),\n",
        "    (\"cucumber\", 7, \"2020-10-05\"),\n",
        "    (\"pepper\", 20, \"2020-10-06\")\n",
        "    ).toDF(\"name\", \"qty\", \"date\")\n",
        "\n",
        "val testDataLocation = s\"$dataPath/productTable\"\n",
        "\n",
        "testData.write.mode(\"overwrite\").parquet(testDataLocation)\n",
        "val testDF = spark.read.parquet(testDataLocation)"
      ],
      "outputs": [
        {
          "output_type": "display_data",
          "data": {
            "application/vnd.livy.statement-meta+json": {
              "spark_pool": "small",
              "session_id": 17,
              "statement_id": 24,
              "state": "finished",
              "livy_statement_state": "available",
              "queued_time": "2021-02-23T06:16:15.1994953Z",
              "execution_start_time": "2021-02-23T06:17:52.7870751Z",
              "execution_finish_time": "2021-02-23T06:17:56.8580078Z"
            },
            "text/plain": "StatementMeta(small, 17, 24, Finished, Available)"
          },
          "metadata": {}
        },
        {
          "output_type": "execute_result",
          "execution_count": 22,
          "data": {
            "text/plain": "testData: org.apache.spark.sql.DataFrame = [name: string, qty: int ... 1 more field]\ntestDataLocation: String = /hyperspace/data-269515/productTable\ntestDF: org.apache.spark.sql.DataFrame = [name: string, qty: int ... 1 more field]\n"
          },
          "metadata": {}
        }
      ],
      "execution_count": 22,
      "metadata": {}
    },
    {
      "cell_type": "code",
      "source": [
        "// CREATE INDEX\n",
        "hyperspace.createIndex(testDF, IndexConfig(\"productIndex2\", Seq(\"name\"), Seq(\"date\", \"qty\")))\n",
        "\n",
        "spark.conf.set(\"spark.sql.autoBroadcastJoinThreshold\", -1)\n",
        "val filter1 = testDF.filter(\"name = 'banana'\")\n",
        "val filter2 = testDF.filter(\"qty > 10\")\n",
        "val query = filter1.join(filter2, \"name\")\n",
        "\n",
        "// Check Join index rule is applied properly.\n",
        "hyperspace.explain(query)(displayHTML(_))"
      ],
      "outputs": [
        {
          "output_type": "display_data",
          "data": {
            "application/vnd.livy.statement-meta+json": {
              "spark_pool": "small",
              "session_id": 17,
              "statement_id": 25,
              "state": "finished",
              "livy_statement_state": "available",
              "queued_time": "2021-02-23T06:16:15.5736992Z",
              "execution_start_time": "2021-02-23T06:17:56.9380449Z",
              "execution_finish_time": "2021-02-23T06:18:03.0462998Z"
            },
            "text/plain": "StatementMeta(small, 17, 25, Finished, Available)"
          },
          "metadata": {}
        },
        {
          "output_type": "display_data",
          "data": {
            "text/plain": "filter1: org.apache.spark.sql.Dataset[org.apache.spark.sql.Row] = [name: string, qty: int ... 1 more field]\nfilter2: org.apache.spark.sql.Dataset[org.apache.spark.sql.Row] = [name: string, qty: int ... 1 more field]\nquery: org.apache.spark.sql.DataFrame = [name: string, qty: int ... 3 more fields]\n"
          },
          "metadata": {}
        },
        {
          "output_type": "display_data",
          "data": {
            "text/html": "<pre>=============================================================<br>Plan with indexes:<br>=============================================================<br>Project [name#1056, qty#1057, date#1058, qty#1081, date#1082]<br>+- SortMergeJoin [name#1056], [name#1080], Inner<br>   <b style=\"background:LightGreen\">:- *(1) Project [name#1056, qty#1057, date#1058]</b><br>   <b style=\"background:LightGreen\">:  +- *(1) Filter (isnotnull(name#1056) && (name#1056 = banana))</b><br>   <b style=\"background:LightGreen\">:     +- *(1) FileScan Hyperspace(Type: CI, Name: productIndex2, LogVersion: 1) [name#1056,date#1058,qty#1057] Batched: true, Format: Parquet, Location: InMemoryFileIndex[abfss://zhaotest@bdbjtestgen2.dfs.core.windows.net/hyperspace/indexes-269515/pr..., PartitionFilters: [], PushedFilters: [IsNotNull(name), EqualTo(name,banana)], ReadSchema: struct<name:string,date:string,qty:int>, SelectedBucketsCount: 1 out of 200</b><br>   <b style=\"background:LightGreen\">+- *(2) Project [name#1080, qty#1081, date#1082]</b><br>      <b style=\"background:LightGreen\">+- *(2) Filter (((isnotnull(qty#1081) && (qty#1081 > 10)) && (name#1080 = banana)) && isnotnull(name#1080))</b><br>         <b style=\"background:LightGreen\">+- *(2) FileScan Hyperspace(Type: CI, Name: productIndex2, LogVersion: 1) [name#1080,date#1082,qty#1081] Batched: true, Format: Parquet, Location: InMemoryFileIndex[abfss://zhaotest@bdbjtestgen2.dfs.core.windows.net/hyperspace/indexes-269515/pr..., PartitionFilters: [], PushedFilters: [IsNotNull(qty), GreaterThan(qty,10), EqualTo(name,banana), IsNotNull(name)], ReadSchema: struct<name:string,date:string,qty:int>, SelectedBucketsCount: 1 out of 200</b><br><br>=============================================================<br>Plan without indexes:<br>=============================================================<br>Project [name#1056, qty#1057, date#1058, qty#1081, date#1082]<br>+- SortMergeJoin [name#1056], [name#1080], Inner<br>   <b style=\"background:LightGreen\">:- *(2) Sort [name#1056 ASC NULLS FIRST], false, 0</b><br>   <b style=\"background:LightGreen\">:  +- Exchange hashpartitioning(name#1056, 200), [id=#453]</b><br>   <b style=\"background:LightGreen\">:     +- *(1) Project [name#1056, qty#1057, date#1058]</b><br>   <b style=\"background:LightGreen\">:        +- *(1) Filter (isnotnull(name#1056) && (name#1056 = banana))</b><br>   <b style=\"background:LightGreen\">:           +- *(1) FileScan parquet [name#1056,qty#1057,date#1058] Batched: true, Format: Parquet, Location: InMemoryFileIndex[abfss://zhaotest@bdbjtestgen2.dfs.core.windows.net/hyperspace/data-269515/produ..., PartitionFilters: [], PushedFilters: [IsNotNull(name), EqualTo(name,banana)], ReadSchema: struct<name:string,qty:int,date:string></b><br>   <b style=\"background:LightGreen\">+- *(4) Sort [name#1080 ASC NULLS FIRST], false, 0</b><br>      <b style=\"background:LightGreen\">+- Exchange hashpartitioning(name#1080, 200), [id=#459]</b><br>         <b style=\"background:LightGreen\">+- *(3) Project [name#1080, qty#1081, date#1082]</b><br>            <b style=\"background:LightGreen\">+- *(3) Filter (((isnotnull(qty#1081) && (qty#1081 > 10)) && (name#1080 = banana)) && isnotnull(name#1080))</b><br>               <b style=\"background:LightGreen\">+- *(3) FileScan parquet [name#1080,qty#1081,date#1082] Batched: true, Format: Parquet, Location: InMemoryFileIndex[abfss://zhaotest@bdbjtestgen2.dfs.core.windows.net/hyperspace/data-269515/produ..., PartitionFilters: [], PushedFilters: [IsNotNull(qty), GreaterThan(qty,10), EqualTo(name,banana), IsNotNull(name)], ReadSchema: struct<name:string,qty:int,date:string></b><br><br>=============================================================<br>Indexes used:<br>=============================================================<br>productIndex2:abfss://zhaotest@bdbjtestgen2.dfs.core.windows.net/hyperspace/indexes-269515/productIndex2/v__=0<br><br></pre>"
          },
          "metadata": {}
        },
        {
          "output_type": "display_data",
          "data": {
            "text/plain": "\n"
          },
          "metadata": {}
        },
        {
          "output_type": "execute_result",
          "execution_count": 23,
          "data": {},
          "metadata": {}
        }
      ],
      "execution_count": 23,
      "metadata": {}
    },
    {
      "cell_type": "code",
      "source": [
        "// Append new files.\n",
        "val appendData = Seq(\n",
        "    (\"orange\", 13, \"2020-11-01\"),\n",
        "    (\"banana\", 5, \"2020-11-01\")).toDF(\"name\", \"qty\", \"date\")\n",
        "appendData.write.mode(\"append\").parquet(testDataLocation)"
      ],
      "outputs": [
        {
          "output_type": "display_data",
          "data": {
            "application/vnd.livy.statement-meta+json": {
              "spark_pool": "small",
              "session_id": 17,
              "statement_id": 26,
              "state": "finished",
              "livy_statement_state": "available",
              "queued_time": "2021-02-23T06:16:15.6475044Z",
              "execution_start_time": "2021-02-23T06:18:03.1152122Z",
              "execution_finish_time": "2021-02-23T06:18:05.1539164Z"
            },
            "text/plain": "StatementMeta(small, 17, 26, Finished, Available)"
          },
          "metadata": {}
        },
        {
          "output_type": "execute_result",
          "execution_count": 24,
          "data": {
            "text/plain": "appendData: org.apache.spark.sql.DataFrame = [name: string, qty: int ... 1 more field]\n"
          },
          "metadata": {}
        }
      ],
      "execution_count": 24,
      "metadata": {}
    },
    {
      "cell_type": "markdown",
      "source": [
        "Hybrid scan is disabled by default. Therefore, you will see that since we appended new data, Hyperspace will decide NOT to use the index.\n",
        "\n",
        "In the output, you will see no plan differences (hence no highlighting)."
      ],
      "metadata": {}
    },
    {
      "cell_type": "code",
      "source": [
        "// Hybrid Scan configs are false by default.\n",
        "spark.conf.set(\"spark.hyperspace.index.hybridscan.enabled\", \"false\")\n",
        "spark.conf.set(\"spark.hyperspace.index.hybridscan.delete.enabled\", \"false\")\n",
        "\n",
        "val testDFWithAppend = spark.read.parquet(testDataLocation)\n",
        "val filter1 = testDFWithAppend.filter(\"name = 'banana'\")\n",
        "val filter2 = testDFWithAppend.filter(\"qty > 10\")\n",
        "val query = filter1.join(filter2, \"name\")\n",
        "hyperspace.explain(query)(displayHTML(_))\n",
        "query.show"
      ],
      "outputs": [
        {
          "output_type": "display_data",
          "data": {
            "application/vnd.livy.statement-meta+json": {
              "spark_pool": "small",
              "session_id": 17,
              "statement_id": 27,
              "state": "finished",
              "livy_statement_state": "available",
              "queued_time": "2021-02-23T06:16:15.70067Z",
              "execution_start_time": "2021-02-23T06:18:05.2596725Z",
              "execution_finish_time": "2021-02-23T06:18:11.5694584Z"
            },
            "text/plain": "StatementMeta(small, 17, 27, Finished, Available)"
          },
          "metadata": {}
        },
        {
          "output_type": "display_data",
          "data": {
            "text/plain": "testDFWithAppend: org.apache.spark.sql.DataFrame = [name: string, qty: int ... 1 more field]\nfilter1: org.apache.spark.sql.Dataset[org.apache.spark.sql.Row] = [name: string, qty: int ... 1 more field]\nfilter2: org.apache.spark.sql.Dataset[org.apache.spark.sql.Row] = [name: string, qty: int ... 1 more field]\nquery: org.apache.spark.sql.DataFrame = [name: string, qty: int ... 3 more fields]\n"
          },
          "metadata": {}
        },
        {
          "output_type": "display_data",
          "data": {
            "text/html": "<pre>=============================================================<br>Plan with indexes:<br>=============================================================<br>Project [name#1172, qty#1173, date#1174, qty#1179, date#1180]<br>+- SortMergeJoin [name#1172], [name#1178], Inner<br>   :- *(2) Sort [name#1172 ASC NULLS FIRST], false, 0<br>   :  +- Exchange hashpartitioning(name#1172, 200), [id=#589]<br>   :     +- *(1) Project [name#1172, qty#1173, date#1174]<br>   :        +- *(1) Filter (isnotnull(name#1172) && (name#1172 = banana))<br>   :           +- *(1) FileScan parquet [name#1172,qty#1173,date#1174] Batched: true, Format: Parquet, Location: InMemoryFileIndex[abfss://zhaotest@bdbjtestgen2.dfs.core.windows.net/hyperspace/data-269515/produ..., PartitionFilters: [], PushedFilters: [IsNotNull(name), EqualTo(name,banana)], ReadSchema: struct<name:string,qty:int,date:string><br>   +- *(4) Sort [name#1178 ASC NULLS FIRST], false, 0<br>      +- Exchange hashpartitioning(name#1178, 200), [id=#595]<br>         +- *(3) Project [name#1178, qty#1179, date#1180]<br>            +- *(3) Filter (((isnotnull(qty#1179) && (qty#1179 > 10)) && (name#1178 = banana)) && isnotnull(name#1178))<br>               +- *(3) FileScan parquet [name#1178,qty#1179,date#1180] Batched: true, Format: Parquet, Location: InMemoryFileIndex[abfss://zhaotest@bdbjtestgen2.dfs.core.windows.net/hyperspace/data-269515/produ..., PartitionFilters: [], PushedFilters: [IsNotNull(qty), GreaterThan(qty,10), EqualTo(name,banana), IsNotNull(name)], ReadSchema: struct<name:string,qty:int,date:string><br><br>=============================================================<br>Plan without indexes:<br>=============================================================<br>Project [name#1172, qty#1173, date#1174, qty#1179, date#1180]<br>+- SortMergeJoin [name#1172], [name#1178], Inner<br>   :- *(2) Sort [name#1172 ASC NULLS FIRST], false, 0<br>   :  +- Exchange hashpartitioning(name#1172, 200), [id=#536]<br>   :     +- *(1) Project [name#1172, qty#1173, date#1174]<br>   :        +- *(1) Filter (isnotnull(name#1172) && (name#1172 = banana))<br>   :           +- *(1) FileScan parquet [name#1172,qty#1173,date#1174] Batched: true, Format: Parquet, Location: InMemoryFileIndex[abfss://zhaotest@bdbjtestgen2.dfs.core.windows.net/hyperspace/data-269515/produ..., PartitionFilters: [], PushedFilters: [IsNotNull(name), EqualTo(name,banana)], ReadSchema: struct<name:string,qty:int,date:string><br>   +- *(4) Sort [name#1178 ASC NULLS FIRST], false, 0<br>      +- Exchange hashpartitioning(name#1178, 200), [id=#542]<br>         +- *(3) Project [name#1178, qty#1179, date#1180]<br>            +- *(3) Filter (((isnotnull(qty#1179) && (qty#1179 > 10)) && (name#1178 = banana)) && isnotnull(name#1178))<br>               +- *(3) FileScan parquet [name#1178,qty#1179,date#1180] Batched: true, Format: Parquet, Location: InMemoryFileIndex[abfss://zhaotest@bdbjtestgen2.dfs.core.windows.net/hyperspace/data-269515/produ..., PartitionFilters: [], PushedFilters: [IsNotNull(qty), GreaterThan(qty,10), EqualTo(name,banana), IsNotNull(name)], ReadSchema: struct<name:string,qty:int,date:string><br><br>=============================================================<br>Indexes used:<br>=============================================================<br><br></pre>"
          },
          "metadata": {}
        },
        {
          "output_type": "display_data",
          "data": {
            "text/plain": "\n+------+---+----------+---+----------+\n|  name|qty|      date|qty|      date|\n+------+---+----------+---+----------+\n|banana|  5|2020-11-01| 11|2020-10-03|\n|banana|  1|2020-10-01| 11|2020-10-03|\n|banana| 11|2020-10-03| 11|2020-10-03|\n+------+---+----------+---+----------+\n\n"
          },
          "metadata": {}
        },
        {
          "output_type": "execute_result",
          "execution_count": 25,
          "data": {},
          "metadata": {}
        }
      ],
      "execution_count": 25,
      "metadata": {}
    },
    {
      "cell_type": "markdown",
      "source": [
        "### Enable Hybrid Scan\n",
        "\n",
        "In plan with indexes, you can see\n",
        "`Exchange hashpartitioning` required only for appended files so that we could still utilize the \"shuffled\" index data with appended files. `BucketUnion` is used to merge \"shuffled\" appended files with the index data."
      ],
      "metadata": {}
    },
    {
      "cell_type": "code",
      "source": [
        "// Enable Hybrid Scan config. \"delete\" config is not necessary since we only appended data.\n",
        "spark.conf.set(\"spark.hyperspace.index.hybridscan.enabled\", \"true\")\n",
        "// spark.conf.set(\"spark.hyperspace.index.hybridscan.delete.enabled\", \"true\")\n",
        "spark.enableHyperspace\n",
        "// Need to redefine query to recalculate the query plan.\n",
        "val query = filter1.join(filter2, \"name\")\n",
        "hyperspace.explain(query)(displayHTML(_))\n",
        "query.show"
      ],
      "outputs": [
        {
          "output_type": "display_data",
          "data": {
            "application/vnd.livy.statement-meta+json": {
              "spark_pool": "small",
              "session_id": 17,
              "statement_id": 28,
              "state": "finished",
              "livy_statement_state": "available",
              "queued_time": "2021-02-23T06:16:15.7663937Z",
              "execution_start_time": "2021-02-23T06:18:11.6454911Z",
              "execution_finish_time": "2021-02-23T06:18:15.7414632Z"
            },
            "text/plain": "StatementMeta(small, 17, 28, Finished, Available)"
          },
          "metadata": {}
        },
        {
          "output_type": "display_data",
          "data": {
            "text/plain": "res126: org.apache.spark.sql.SparkSession = org.apache.spark.sql.SparkSession@34ab7b5f\nquery: org.apache.spark.sql.DataFrame = [name: string, qty: int ... 3 more fields]\n"
          },
          "metadata": {}
        },
        {
          "output_type": "display_data",
          "data": {
            "text/html": "<pre>=============================================================<br>Plan with indexes:<br>=============================================================<br>Project [name#1172, qty#1173, date#1174, qty#1271, date#1272]<br>+- SortMergeJoin [name#1172], [name#1270], Inner<br>   :- *(3) Sort [name#1172 ASC NULLS FIRST], false, 0<br>   <b style=\"background:LightGreen\">:  +- BucketUnion 200 buckets, bucket columns: [name]</b><br>   <b style=\"background:LightGreen\">:     :- *(1) Project [name#1172, qty#1173, date#1174]</b><br>   <b style=\"background:LightGreen\">:     :  +- *(1) Filter (isnotnull(name#1172) && (name#1172 = banana))</b><br>   <b style=\"background:LightGreen\">:     :     +- *(1) FileScan Hyperspace(Type: CI, Name: productIndex2, LogVersion: 1) [name#1172,date#1174,qty#1173] Batched: true, Format: Parquet, Location: InMemoryFileIndex[abfss://zhaotest@bdbjtestgen2.dfs.core.windows.net/hyperspace/indexes-269515/pr..., PartitionFilters: [], PushedFilters: [IsNotNull(name), EqualTo(name,banana)], ReadSchema: struct<name:string,date:string,qty:int>, SelectedBucketsCount: 1 out of 200</b><br>   <b style=\"background:LightGreen\">:     +- Exchange hashpartitioning(name#1172, 200), [id=#775]</b><br>   <b style=\"background:LightGreen\">:        +- *(2) Project [name#1172, qty#1173, date#1174]</b><br>   <b style=\"background:LightGreen\">:           +- *(2) Filter (isnotnull(name#1172) && (name#1172 = banana))</b><br>   <b style=\"background:LightGreen\">:              +- *(2) FileScan parquet [name#1172,qty#1173,date#1174] Batched: true, Format: Parquet, Location: InMemoryFileIndex[abfss://zhaotest@bdbjtestgen2.dfs.core.windows.net/hyperspace/data-269515/produ..., PartitionFilters: [], PushedFilters: [IsNotNull(name), EqualTo(name,banana)], ReadSchema: struct<name:string,qty:int,date:string></b><br>   +- *(6) Sort [name#1270 ASC NULLS FIRST], false, 0<br>      <b style=\"background:LightGreen\">+- BucketUnion 200 buckets, bucket columns: [name]</b><br>         <b style=\"background:LightGreen\">:- *(4) Project [name#1270, qty#1271, date#1272]</b><br>         <b style=\"background:LightGreen\">:  +- *(4) Filter (((isnotnull(qty#1271) && (qty#1271 > 10)) && isnotnull(name#1270)) && (name#1270 = banana))</b><br>         <b style=\"background:LightGreen\">:     +- *(4) FileScan Hyperspace(Type: CI, Name: productIndex2, LogVersion: 1) [name#1270,date#1272,qty#1271] Batched: true, Format: Parquet, Location: InMemoryFileIndex[abfss://zhaotest@bdbjtestgen2.dfs.core.windows.net/hyperspace/indexes-269515/pr..., PartitionFilters: [], PushedFilters: [IsNotNull(qty), GreaterThan(qty,10), IsNotNull(name), EqualTo(name,banana)], ReadSchema: struct<name:string,date:string,qty:int>, SelectedBucketsCount: 1 out of 200</b><br>         <b style=\"background:LightGreen\">+- Exchange hashpartitioning(name#1270, 200), [id=#783]</b><br>            <b style=\"background:LightGreen\">+- *(5) Project [name#1270, qty#1271, date#1272]</b><br>               <b style=\"background:LightGreen\">+- *(5) Filter (((isnotnull(qty#1271) && (qty#1271 > 10)) && isnotnull(name#1270)) && (name#1270 = banana))</b><br>                  <b style=\"background:LightGreen\">+- *(5) FileScan parquet [name#1270,qty#1271,date#1272] Batched: true, Format: Parquet, Location: InMemoryFileIndex[abfss://zhaotest@bdbjtestgen2.dfs.core.windows.net/hyperspace/data-269515/produ..., PartitionFilters: [], PushedFilters: [IsNotNull(qty), GreaterThan(qty,10), IsNotNull(name), EqualTo(name,banana)], ReadSchema: struct<name:string,qty:int,date:string></b><br><br>=============================================================<br>Plan without indexes:<br>=============================================================<br>Project [name#1172, qty#1173, date#1174, qty#1271, date#1272]<br>+- SortMergeJoin [name#1172], [name#1270], Inner<br>   :- *(2) Sort [name#1172 ASC NULLS FIRST], false, 0<br>   <b style=\"background:LightGreen\">:  +- Exchange hashpartitioning(name#1172, 200), [id=#701]</b><br>   <b style=\"background:LightGreen\">:     +- *(1) Project [name#1172, qty#1173, date#1174]</b><br>   <b style=\"background:LightGreen\">:        +- *(1) Filter (isnotnull(name#1172) && (name#1172 = banana))</b><br>   <b style=\"background:LightGreen\">:           +- *(1) FileScan parquet [name#1172,qty#1173,date#1174] Batched: true, Format: Parquet, Location: InMemoryFileIndex[abfss://zhaotest@bdbjtestgen2.dfs.core.windows.net/hyperspace/data-269515/produ..., PartitionFilters: [], PushedFilters: [IsNotNull(name), EqualTo(name,banana)], ReadSchema: struct<name:string,qty:int,date:string></b><br>   +- *(4) Sort [name#1270 ASC NULLS FIRST], false, 0<br>      <b style=\"background:LightGreen\">+- Exchange hashpartitioning(name#1270, 200), [id=#707]</b><br>         <b style=\"background:LightGreen\">+- *(3) Project [name#1270, qty#1271, date#1272]</b><br>            <b style=\"background:LightGreen\">+- *(3) Filter (((isnotnull(qty#1271) && (qty#1271 > 10)) && isnotnull(name#1270)) && (name#1270 = banana))</b><br>               <b style=\"background:LightGreen\">+- *(3) FileScan parquet [name#1270,qty#1271,date#1272] Batched: true, Format: Parquet, Location: InMemoryFileIndex[abfss://zhaotest@bdbjtestgen2.dfs.core.windows.net/hyperspace/data-269515/produ..., PartitionFilters: [], PushedFilters: [IsNotNull(qty), GreaterThan(qty,10), IsNotNull(name), EqualTo(name,banana)], ReadSchema: struct<name:string,qty:int,date:string></b><br><br>=============================================================<br>Indexes used:<br>=============================================================<br>productIndex2:abfss://zhaotest@bdbjtestgen2.dfs.core.windows.net/hyperspace/indexes-269515/productIndex2/v__=0<br><br></pre>"
          },
          "metadata": {}
        },
        {
          "output_type": "display_data",
          "data": {
            "text/plain": "\n+------+---+----------+---+----------+\n|  name|qty|      date|qty|      date|\n+------+---+----------+---+----------+\n|banana|  1|2020-10-01| 11|2020-10-03|\n|banana| 11|2020-10-03| 11|2020-10-03|\n|banana|  5|2020-11-01| 11|2020-10-03|\n+------+---+----------+---+----------+\n\n"
          },
          "metadata": {}
        },
        {
          "output_type": "execute_result",
          "execution_count": 26,
          "data": {},
          "metadata": {}
        }
      ],
      "execution_count": 26,
      "metadata": {}
    },
    {
      "cell_type": "markdown",
      "source": [
        "## Incremental Index Refresh\n",
        "When you ready to update your indexes but do not want to rebuild your entire index, Hyperspace supports updating indexes in an incremental manner using `hs.refreshIndex(\"name\", \"incremental\")` API. This will allow eliminate the need for a full rebuild of index from scratch, utilizing previously created index files as well as updating indexes on only the newly added data.\n",
        "\n",
        "Of course, please be sure to use the complementary `optimizeIndex` API (shown below) periodically to make sure you do not see performance regressions. We recommend calling `optimize` at least once for every 10 times you call `refreshIndex(..., \"incremental\")`, assuming the data you added/removed is < 10% of the original dataset. For instance, if your original dataset is 100 GB, and you've added/removed data in increments/decrements of 1 GB, you can call `refreshIndex` 10 times before calling `optimizeIndex`. Please note that this example is simply used for illustration and you have to adapt this for your workloads.\n",
        "\n",
        "In the example below, notice the addition of a `Sort` node in the query plan when indexes are used. This is because partial indexes are created on the appended data files, causing Spark to introduce a `Sort`. Please also note that `Shuffle` i.e. `Exchange` is still eliminated from the plan, giving you the appropriate acceleration."
      ],
      "metadata": {}
    },
    {
      "cell_type": "code",
      "source": [
        "def query(): DataFrame = {\n",
        "    val testDFWithAppend = spark.read.parquet(testDataLocation)\n",
        "    val filter1 = testDFWithAppend.filter(\"name = 'banana'\")\n",
        "    val filter2 = testDFWithAppend.filter(\"qty > 10\")\n",
        "    filter1.join(filter2, \"name\")\n",
        "}\n",
        "\n",
        "hyperspace.refreshIndex(\"productIndex2\", \"incremental\")\n",
        "\n",
        "hyperspace.explain(query())(displayHTML(_))\n",
        "query().show"
      ],
      "outputs": [
        {
          "output_type": "display_data",
          "data": {
            "application/vnd.livy.statement-meta+json": {
              "spark_pool": "small",
              "session_id": 17,
              "statement_id": 29,
              "state": "finished",
              "livy_statement_state": "available",
              "queued_time": "2021-02-23T06:16:15.9509599Z",
              "execution_start_time": "2021-02-23T06:18:15.8118253Z",
              "execution_finish_time": "2021-02-23T06:18:23.9763192Z"
            },
            "text/plain": "StatementMeta(small, 17, 29, Finished, Available)"
          },
          "metadata": {}
        },
        {
          "output_type": "display_data",
          "data": {
            "text/plain": "query: ()org.apache.spark.sql.DataFrame\n"
          },
          "metadata": {}
        },
        {
          "output_type": "display_data",
          "data": {
            "text/html": "<pre>=============================================================<br>Plan with indexes:<br>=============================================================<br>Project [name#1392, qty#1393, date#1394, qty#1399, date#1400]<br>+- SortMergeJoin [name#1392], [name#1398], Inner<br>   :- *(1) Sort [name#1392 ASC NULLS FIRST], false, 0<br>   <b style=\"background:LightGreen\">:  +- *(1) Project [name#1392, qty#1393, date#1394]</b><br>   <b style=\"background:LightGreen\">:     +- *(1) Filter (isnotnull(name#1392) && (name#1392 = banana))</b><br>   <b style=\"background:LightGreen\">:        +- *(1) FileScan Hyperspace(Type: CI, Name: productIndex2, LogVersion: 3) [name#1392,date#1394,qty#1393] Batched: true, Format: Parquet, Location: InMemoryFileIndex[abfss://zhaotest@bdbjtestgen2.dfs.core.windows.net/hyperspace/indexes-269515/pr..., PartitionFilters: [], PushedFilters: [IsNotNull(name), EqualTo(name,banana)], ReadSchema: struct<name:string,date:string,qty:int>, SelectedBucketsCount: 1 out of 200</b><br>   +- *(2) Sort [name#1398 ASC NULLS FIRST], false, 0<br>      <b style=\"background:LightGreen\">+- *(2) Project [name#1398, qty#1399, date#1400]</b><br>         <b style=\"background:LightGreen\">+- *(2) Filter (((isnotnull(qty#1399) && (qty#1399 > 10)) && (name#1398 = banana)) && isnotnull(name#1398))</b><br>            <b style=\"background:LightGreen\">+- *(2) FileScan Hyperspace(Type: CI, Name: productIndex2, LogVersion: 3) [name#1398,date#1400,qty#1399] Batched: true, Format: Parquet, Location: InMemoryFileIndex[abfss://zhaotest@bdbjtestgen2.dfs.core.windows.net/hyperspace/indexes-269515/pr..., PartitionFilters: [], PushedFilters: [IsNotNull(qty), GreaterThan(qty,10), EqualTo(name,banana), IsNotNull(name)], ReadSchema: struct<name:string,date:string,qty:int>, SelectedBucketsCount: 1 out of 200</b><br><br>=============================================================<br>Plan without indexes:<br>=============================================================<br>Project [name#1392, qty#1393, date#1394, qty#1399, date#1400]<br>+- SortMergeJoin [name#1392], [name#1398], Inner<br>   :- *(2) Sort [name#1392 ASC NULLS FIRST], false, 0<br>   <b style=\"background:LightGreen\">:  +- Exchange hashpartitioning(name#1392, 200), [id=#927]</b><br>   <b style=\"background:LightGreen\">:     +- *(1) Project [name#1392, qty#1393, date#1394]</b><br>   <b style=\"background:LightGreen\">:        +- *(1) Filter (isnotnull(name#1392) && (name#1392 = banana))</b><br>   <b style=\"background:LightGreen\">:           +- *(1) FileScan parquet [name#1392,qty#1393,date#1394] Batched: true, Format: Parquet, Location: InMemoryFileIndex[abfss://zhaotest@bdbjtestgen2.dfs.core.windows.net/hyperspace/data-269515/produ..., PartitionFilters: [], PushedFilters: [IsNotNull(name), EqualTo(name,banana)], ReadSchema: struct<name:string,qty:int,date:string></b><br>   +- *(4) Sort [name#1398 ASC NULLS FIRST], false, 0<br>      <b style=\"background:LightGreen\">+- Exchange hashpartitioning(name#1398, 200), [id=#933]</b><br>         <b style=\"background:LightGreen\">+- *(3) Project [name#1398, qty#1399, date#1400]</b><br>            <b style=\"background:LightGreen\">+- *(3) Filter (((isnotnull(qty#1399) && (qty#1399 > 10)) && (name#1398 = banana)) && isnotnull(name#1398))</b><br>               <b style=\"background:LightGreen\">+- *(3) FileScan parquet [name#1398,qty#1399,date#1400] Batched: true, Format: Parquet, Location: InMemoryFileIndex[abfss://zhaotest@bdbjtestgen2.dfs.core.windows.net/hyperspace/data-269515/produ..., PartitionFilters: [], PushedFilters: [IsNotNull(qty), GreaterThan(qty,10), EqualTo(name,banana), IsNotNull(name)], ReadSchema: struct<name:string,qty:int,date:string></b><br><br>=============================================================<br>Indexes used:<br>=============================================================<br><br></pre>"
          },
          "metadata": {}
        },
        {
          "output_type": "display_data",
          "data": {
            "text/plain": "\n+------+---+----------+---+----------+\n|  name|qty|      date|qty|      date|\n+------+---+----------+---+----------+\n|banana|  1|2020-10-01| 11|2020-10-03|\n|banana| 11|2020-10-03| 11|2020-10-03|\n|banana|  5|2020-11-01| 11|2020-10-03|\n+------+---+----------+---+----------+\n\n"
          },
          "metadata": {}
        },
        {
          "output_type": "execute_result",
          "execution_count": 27,
          "data": {},
          "metadata": {}
        }
      ],
      "execution_count": 27,
      "metadata": {}
    },
    {
      "cell_type": "markdown",
      "source": [
        "## Optimize Index layout\n",
        "After calling incremental refreshes multiple times on newly appended data (e.g. if the user writes to data in small batches or in case of streaming scenarios), the number of index files tend to become large affecting the performance of the index (large number of small files problem). Hyperspace provides `hyperspace.optimizeIndex(\"indexName\")` API to optimize the index layout and reduce the large files problem.\n",
        "\n",
        "In the plan below, notice that Hyperspace has removed the additional `Sort` node in the query plan. Optimize can help avoiding sorting for any index bucket which contains only one file. However, this will only be true if ALL the index buckets have at most 1 file per bucket, after `optimizeIndex`."
      ],
      "metadata": {}
    },
    {
      "cell_type": "code",
      "source": [
        "// Append some more data and call refresh again.\n",
        "val appendData = Seq(\n",
        "    (\"orange\", 13, \"2020-11-01\"),\n",
        "    (\"banana\", 5, \"2020-11-01\")).toDF(\"name\", \"qty\", \"date\")\n",
        "appendData.write.mode(\"append\").parquet(testDataLocation)\n",
        "\n",
        "hyperspace.refreshIndex(\"productIndex2\", \"incremental\")"
      ],
      "outputs": [
        {
          "output_type": "display_data",
          "data": {
            "application/vnd.livy.statement-meta+json": {
              "spark_pool": "small",
              "session_id": 17,
              "statement_id": 30,
              "state": "finished",
              "livy_statement_state": "available",
              "queued_time": "2021-02-23T06:16:16.1809843Z",
              "execution_start_time": "2021-02-23T06:18:24.0567199Z",
              "execution_finish_time": "2021-02-23T06:18:30.159262Z"
            },
            "text/plain": "StatementMeta(small, 17, 30, Finished, Available)"
          },
          "metadata": {}
        },
        {
          "output_type": "execute_result",
          "execution_count": 28,
          "data": {
            "text/plain": "appendData: org.apache.spark.sql.DataFrame = [name: string, qty: int ... 1 more field]\n"
          },
          "metadata": {}
        }
      ],
      "execution_count": 28,
      "metadata": {}
    },
    {
      "cell_type": "code",
      "source": [
        "// Call optimize. Ensure that Sort is removed after optimization (This is possible here because after optimize, in this case, every bucket contains only 1 file.).\n",
        "hyperspace.optimizeIndex(\"productIndex2\")\n",
        "\n",
        "hyperspace.explain(query())(displayHTML(_))"
      ],
      "outputs": [
        {
          "output_type": "display_data",
          "data": {
            "application/vnd.livy.statement-meta+json": {
              "spark_pool": "small",
              "session_id": 17,
              "statement_id": 31,
              "state": "finished",
              "livy_statement_state": "available",
              "queued_time": "2021-02-23T06:16:17.1918114Z",
              "execution_start_time": "2021-02-23T06:18:30.229532Z",
              "execution_finish_time": "2021-02-23T06:18:36.3406042Z"
            },
            "text/plain": "StatementMeta(small, 17, 31, Finished, Available)"
          },
          "metadata": {}
        },
        {
          "output_type": "display_data",
          "data": {
            "text/html": "<pre>=============================================================<br>Plan with indexes:<br>=============================================================<br>Project [name#1559, qty#1560, date#1561, qty#1566, date#1567]<br>+- SortMergeJoin [name#1559], [name#1565], Inner<br>   <b style=\"background:LightGreen\">:- *(1) Project [name#1559, qty#1560, date#1561]</b><br>   <b style=\"background:LightGreen\">:  +- *(1) Filter (isnotnull(name#1559) && (name#1559 = banana))</b><br>   <b style=\"background:LightGreen\">:     +- *(1) FileScan Hyperspace(Type: CI, Name: productIndex2, LogVersion: 7) [name#1559,date#1561,qty#1560] Batched: true, Format: Parquet, Location: InMemoryFileIndex[abfss://zhaotest@bdbjtestgen2.dfs.core.windows.net/hyperspace/indexes-269515/pr..., PartitionFilters: [], PushedFilters: [IsNotNull(name), EqualTo(name,banana)], ReadSchema: struct<name:string,date:string,qty:int>, SelectedBucketsCount: 1 out of 200</b><br>   <b style=\"background:LightGreen\">+- *(2) Project [name#1565, qty#1566, date#1567]</b><br>      <b style=\"background:LightGreen\">+- *(2) Filter (((isnotnull(qty#1566) && (qty#1566 > 10)) && isnotnull(name#1565)) && (name#1565 = banana))</b><br>         <b style=\"background:LightGreen\">+- *(2) FileScan Hyperspace(Type: CI, Name: productIndex2, LogVersion: 7) [name#1565,date#1567,qty#1566] Batched: true, Format: Parquet, Location: InMemoryFileIndex[abfss://zhaotest@bdbjtestgen2.dfs.core.windows.net/hyperspace/indexes-269515/pr..., PartitionFilters: [], PushedFilters: [IsNotNull(qty), GreaterThan(qty,10), IsNotNull(name), EqualTo(name,banana)], ReadSchema: struct<name:string,date:string,qty:int>, SelectedBucketsCount: 1 out of 200</b><br><br>=============================================================<br>Plan without indexes:<br>=============================================================<br>Project [name#1559, qty#1560, date#1561, qty#1566, date#1567]<br>+- SortMergeJoin [name#1559], [name#1565], Inner<br>   <b style=\"background:LightGreen\">:- *(2) Sort [name#1559 ASC NULLS FIRST], false, 0</b><br>   <b style=\"background:LightGreen\">:  +- Exchange hashpartitioning(name#1559, 200), [id=#1070]</b><br>   <b style=\"background:LightGreen\">:     +- *(1) Project [name#1559, qty#1560, date#1561]</b><br>   <b style=\"background:LightGreen\">:        +- *(1) Filter (isnotnull(name#1559) && (name#1559 = banana))</b><br>   <b style=\"background:LightGreen\">:           +- *(1) FileScan parquet [name#1559,qty#1560,date#1561] Batched: true, Format: Parquet, Location: InMemoryFileIndex[abfss://zhaotest@bdbjtestgen2.dfs.core.windows.net/hyperspace/data-269515/produ..., PartitionFilters: [], PushedFilters: [IsNotNull(name), EqualTo(name,banana)], ReadSchema: struct<name:string,qty:int,date:string></b><br>   <b style=\"background:LightGreen\">+- *(4) Sort [name#1565 ASC NULLS FIRST], false, 0</b><br>      <b style=\"background:LightGreen\">+- Exchange hashpartitioning(name#1565, 200), [id=#1076]</b><br>         <b style=\"background:LightGreen\">+- *(3) Project [name#1565, qty#1566, date#1567]</b><br>            <b style=\"background:LightGreen\">+- *(3) Filter (((isnotnull(qty#1566) && (qty#1566 > 10)) && isnotnull(name#1565)) && (name#1565 = banana))</b><br>               <b style=\"background:LightGreen\">+- *(3) FileScan parquet [name#1565,qty#1566,date#1567] Batched: true, Format: Parquet, Location: InMemoryFileIndex[abfss://zhaotest@bdbjtestgen2.dfs.core.windows.net/hyperspace/data-269515/produ..., PartitionFilters: [], PushedFilters: [IsNotNull(qty), GreaterThan(qty,10), IsNotNull(name), EqualTo(name,banana)], ReadSchema: struct<name:string,qty:int,date:string></b><br><br>=============================================================<br>Indexes used:<br>=============================================================<br><br></pre>"
          },
          "metadata": {}
        },
        {
          "output_type": "display_data",
          "data": {
            "text/plain": "\n"
          },
          "metadata": {}
        },
        {
          "output_type": "execute_result",
          "execution_count": 29,
          "data": {},
          "metadata": {}
        }
      ],
      "execution_count": 29,
      "metadata": {}
    },
    {
      "cell_type": "markdown",
      "source": [
        "#### Optimize modes\n",
        "\n",
        "The default mode for optimization is \"quick\" mode where files smaller than a predefined threshold are picked for optmization. To maximize the effect of optimization, Hyperspace allows another optimize mode \"full\" as shown below. This mode picks ALL index files for optimization irrespective of their file size and creates the best possible layout of the index. This is also slower than the default optimize mode because more data is being processed here."
      ],
      "metadata": {}
    },
    {
      "cell_type": "code",
      "source": [
        "hyperspace.optimizeIndex(\"productIndex2\", \"full\")\n",
        "\n",
        "hyperspace.explain(query())(displayHTML(_))"
      ],
      "outputs": [
        {
          "output_type": "display_data",
          "data": {
            "application/vnd.livy.statement-meta+json": {
              "spark_pool": "small",
              "session_id": 17,
              "statement_id": 32,
              "state": "finished",
              "livy_statement_state": "available",
              "queued_time": "2021-02-23T06:16:17.2537117Z",
              "execution_start_time": "2021-02-23T06:18:36.4083319Z",
              "execution_finish_time": "2021-02-23T06:18:38.4495895Z"
            },
            "text/plain": "StatementMeta(small, 17, 32, Finished, Available)"
          },
          "metadata": {}
        },
        {
          "output_type": "display_data",
          "data": {
            "text/html": "<pre>=============================================================<br>Plan with indexes:<br>=============================================================<br>Project [name#1641, qty#1642, date#1643, qty#1648, date#1649]<br>+- SortMergeJoin [name#1641], [name#1647], Inner<br>   <b style=\"background:LightGreen\">:- *(1) Project [name#1641, qty#1642, date#1643]</b><br>   <b style=\"background:LightGreen\">:  +- *(1) Filter (isnotnull(name#1641) && (name#1641 = banana))</b><br>   <b style=\"background:LightGreen\">:     +- *(1) FileScan Hyperspace(Type: CI, Name: productIndex2, LogVersion: 7) [name#1641,date#1643,qty#1642] Batched: true, Format: Parquet, Location: InMemoryFileIndex[abfss://zhaotest@bdbjtestgen2.dfs.core.windows.net/hyperspace/indexes-269515/pr..., PartitionFilters: [], PushedFilters: [IsNotNull(name), EqualTo(name,banana)], ReadSchema: struct<name:string,date:string,qty:int>, SelectedBucketsCount: 1 out of 200</b><br>   <b style=\"background:LightGreen\">+- *(2) Project [name#1647, qty#1648, date#1649]</b><br>      <b style=\"background:LightGreen\">+- *(2) Filter (((isnotnull(qty#1648) && (qty#1648 > 10)) && isnotnull(name#1647)) && (name#1647 = banana))</b><br>         <b style=\"background:LightGreen\">+- *(2) FileScan Hyperspace(Type: CI, Name: productIndex2, LogVersion: 7) [name#1647,date#1649,qty#1648] Batched: true, Format: Parquet, Location: InMemoryFileIndex[abfss://zhaotest@bdbjtestgen2.dfs.core.windows.net/hyperspace/indexes-269515/pr..., PartitionFilters: [], PushedFilters: [IsNotNull(qty), GreaterThan(qty,10), IsNotNull(name), EqualTo(name,banana)], ReadSchema: struct<name:string,date:string,qty:int>, SelectedBucketsCount: 1 out of 200</b><br><br>=============================================================<br>Plan without indexes:<br>=============================================================<br>Project [name#1641, qty#1642, date#1643, qty#1648, date#1649]<br>+- SortMergeJoin [name#1641], [name#1647], Inner<br>   <b style=\"background:LightGreen\">:- *(2) Sort [name#1641 ASC NULLS FIRST], false, 0</b><br>   <b style=\"background:LightGreen\">:  +- Exchange hashpartitioning(name#1641, 200), [id=#1148]</b><br>   <b style=\"background:LightGreen\">:     +- *(1) Project [name#1641, qty#1642, date#1643]</b><br>   <b style=\"background:LightGreen\">:        +- *(1) Filter (isnotnull(name#1641) && (name#1641 = banana))</b><br>   <b style=\"background:LightGreen\">:           +- *(1) FileScan parquet [name#1641,qty#1642,date#1643] Batched: true, Format: Parquet, Location: InMemoryFileIndex[abfss://zhaotest@bdbjtestgen2.dfs.core.windows.net/hyperspace/data-269515/produ..., PartitionFilters: [], PushedFilters: [IsNotNull(name), EqualTo(name,banana)], ReadSchema: struct<name:string,qty:int,date:string></b><br>   <b style=\"background:LightGreen\">+- *(4) Sort [name#1647 ASC NULLS FIRST], false, 0</b><br>      <b style=\"background:LightGreen\">+- Exchange hashpartitioning(name#1647, 200), [id=#1154]</b><br>         <b style=\"background:LightGreen\">+- *(3) Project [name#1647, qty#1648, date#1649]</b><br>            <b style=\"background:LightGreen\">+- *(3) Filter (((isnotnull(qty#1648) && (qty#1648 > 10)) && isnotnull(name#1647)) && (name#1647 = banana))</b><br>               <b style=\"background:LightGreen\">+- *(3) FileScan parquet [name#1647,qty#1648,date#1649] Batched: true, Format: Parquet, Location: InMemoryFileIndex[abfss://zhaotest@bdbjtestgen2.dfs.core.windows.net/hyperspace/data-269515/produ..., PartitionFilters: [], PushedFilters: [IsNotNull(qty), GreaterThan(qty,10), IsNotNull(name), EqualTo(name,banana)], ReadSchema: struct<name:string,qty:int,date:string></b><br><br>=============================================================<br>Indexes used:<br>=============================================================<br><br></pre>"
          },
          "metadata": {}
        },
        {
          "output_type": "display_data",
          "data": {
            "text/plain": "\n"
          },
          "metadata": {}
        },
        {
          "output_type": "execute_result",
          "execution_count": 30,
          "data": {},
          "metadata": {}
        }
      ],
      "execution_count": 30,
      "metadata": {}
    },
    {
      "cell_type": "markdown",
      "source": [
        "### Clean Up\n",
        "To make this notebook self-contained and not leave any dangling data, we have some small clean-up code below. "
      ],
      "metadata": {}
    },
    {
      "cell_type": "code",
      "source": [
        "mssparkutils.fs.rm(dataPath, true)\n",
        "mssparkutils.fs.rm(indexLocation, true)"
      ],
      "outputs": [
        {
          "output_type": "display_data",
          "data": {
            "application/vnd.livy.statement-meta+json": {
              "spark_pool": "small",
              "session_id": 17,
              "statement_id": 33,
              "state": "finished",
              "livy_statement_state": "available",
              "queued_time": "2021-02-23T06:16:18.2280872Z",
              "execution_start_time": "2021-02-23T06:18:38.5203272Z",
              "execution_finish_time": "2021-02-23T06:18:40.569073Z"
            },
            "text/plain": "StatementMeta(small, 17, 33, Finished, Available)"
          },
          "metadata": {}
        },
        {
          "output_type": "execute_result",
          "execution_count": 31,
          "data": {
            "text/plain": "res146: Boolean = true\nres147: Boolean = true\n"
          },
          "metadata": {}
        }
      ],
      "execution_count": 31,
      "metadata": {}
    }
  ],
  "metadata": {
    "kernelspec": {
      "name": "synapse_spark",
      "language": "Scala",
      "display_name": "Synapse Spark"
    },
    "language_info": {
      "name": "scala"
    },
    "microsoft": {
      "language": "scala"
    },
    "kernel_info": {
      "name": "synapse_spark"
    },
    "nteract": {
      "version": "nteract-front-end@1.0.0"
    },
    "save_output": true,
    "synapse_widget": {
      "version": "0.1",
      "state": {}
    }
  },
  "nbformat": 4,
  "nbformat_minor": 2
}